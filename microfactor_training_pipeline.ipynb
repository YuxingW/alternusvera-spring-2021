{
  "nbformat": 4,
  "nbformat_minor": 0,
  "metadata": {
    "colab": {
      "name": "microfactor_training_pipeline.ipynb",
      "provenance": [],
      "collapsed_sections": [],
      "toc_visible": true,
      "include_colab_link": true
    },
    "kernelspec": {
      "name": "python3",
      "display_name": "Python 3"
    }
  },
  "cells": [
    {
      "cell_type": "markdown",
      "metadata": {
        "id": "view-in-github",
        "colab_type": "text"
      },
      "source": [
        "<a href=\"https://colab.research.google.com/github/YuxingW/alternusvera-spring-2021/blob/main/microfactor_training_pipeline.ipynb\" target=\"_parent\"><img src=\"https://colab.research.google.com/assets/colab-badge.svg\" alt=\"Open In Colab\"/></a>"
      ]
    },
    {
      "cell_type": "markdown",
      "metadata": {
        "id": "WF4Qh5xVqM4D"
      },
      "source": [
        "## CMPE 257 - MLSprings 2021 Cohort\n",
        "Objective: Detect fake news in political datasets using factors\n",
        "mircro factors <br />\n",
        "Team DataCorps - Yuxing Wang, Arun Talkad, Mayuri Lalwani\n",
        "\n",
        "## True-o-meter Pipeline\n",
        "\n",
        "Micorfactors for Factor - Sychology Utilities, Yuxing\n",
        "* Sentiment\n",
        "* Group confirmation\n",
        "* Opinion leader\n",
        "\n",
        "Micorfactors for Factor - Intent, Mayuri\n",
        "* Utterance\n",
        "* Speech\n",
        "* Sentiment\n",
        "\n",
        "Micorfactors for Factor -Incredibility, Arun\n",
        "* Incredibility\n",
        "\n",
        "Reference: \n",
        "* https://towardsai.net/p/nlp/sentiment-analysis-opinion-mining-with-python-nlp-tutorial-d1f173ca4e3c\n",
        "* https://github.com/towardsai/tutorials/tree/master/sentiment_analysis_tutorial\n",
        "* https://machinelearningmastery.com/stacking-ensemble-machine-learning-with-python/\n"
      ]
    },
    {
      "cell_type": "markdown",
      "metadata": {
        "id": "7PnmDlwC8eFK"
      },
      "source": [
        "## 1.Data Preparation\n",
        "* Scrape data from politifact\n",
        "* Fetch twitter tweets by APIs"
      ]
    },
    {
      "cell_type": "markdown",
      "metadata": {
        "id": "cCdKoergjmDw"
      },
      "source": [
        "###1.1.Scrape data from politifact"
      ]
    },
    {
      "cell_type": "code",
      "metadata": {
        "id": "VLl8z7VEjpMw"
      },
      "source": [
        "!pip install -q beautifulsoup4\n",
        "!pip install -q vaderSentiment"
      ],
      "execution_count": 1,
      "outputs": []
    },
    {
      "cell_type": "markdown",
      "metadata": {
        "id": "-hBtFjjoqV2_"
      },
      "source": [
        "**Import Required Packages**"
      ]
    },
    {
      "cell_type": "code",
      "metadata": {
        "colab": {
          "base_uri": "https://localhost:8080/"
        },
        "id": "-sSRIdY1HZCS",
        "outputId": "dd7cb2bb-b389-49c9-b4f8-bfd23e100614"
      },
      "source": [
        "import pandas as pd\n",
        "import numpy as np\n",
        "import seaborn as sns\n",
        "from bs4 import BeautifulSoup\n",
        "import re\n",
        "import requests\n",
        "import string\n",
        "from string import punctuation\n",
        "from sklearn.preprocessing import StandardScaler\n",
        "from io import BytesIO\n",
        "import nltk\n",
        "from nltk.corpus import stopwords\n",
        "nltk.download('stopwords')\n",
        "\n",
        "\n",
        "import matplotlib.pyplot as plt\n",
        "from sklearn.model_selection import train_test_split\n",
        "from sklearn.feature_extraction.text import CountVectorizer\n",
        "from sklearn.feature_extraction.text import TfidfTransformer\n",
        "\n",
        "import tensorflow as tf\n",
        "from tensorflow.keras.models import Sequential\n",
        "from tensorflow.keras.layers import Dense, Activation, Dropout\n",
        "from tensorflow.keras.callbacks import EarlyStopping\n",
        "from vaderSentiment.vaderSentiment import SentimentIntensityAnalyzer"
      ],
      "execution_count": 2,
      "outputs": [
        {
          "output_type": "stream",
          "text": [
            "[nltk_data] Downloading package stopwords to /root/nltk_data...\n",
            "[nltk_data]   Package stopwords is already up-to-date!\n"
          ],
          "name": "stdout"
        }
      ]
    },
    {
      "cell_type": "code",
      "metadata": {
        "id": "VIodWee7Erz8",
        "colab": {
          "base_uri": "https://localhost:8080/",
          "height": 289
        },
        "outputId": "f9c12c35-6e99-48cb-9eb1-38151bc33f8e"
      },
      "source": [
        "def scrape_data_from_politifact(start=1, end=10):\n",
        "  url = \"https://www.politifact.com/issues/\"\n",
        "  issues = []\n",
        "  r = requests.get(url)\n",
        "  soup = BeautifulSoup(r.text,'html.parser')\n",
        "  results = soup.find_all('div', attrs={'class':'c-chyron__value'})\n",
        "  for result in results:\n",
        "    name = result.find('a').text\n",
        "    issue = result.find('a')['href'].replace(\"/\",\"\")\n",
        "    issues.append((name, issue))\n",
        "  url = \"https://www.politifact.com/factchecks/list/?page={pgno}&category={category}\"\n",
        "\n",
        "  records = []  \n",
        "\n",
        "  for i in range(start,end):\n",
        "    for issue, issue_url in issues[0:5]:\n",
        "      fUrl = url.format(pgno=str(i), category=issue_url)\n",
        "      r = requests.get(fUrl)\n",
        "      soup = BeautifulSoup(r.text, 'html.parser')  \n",
        "      results = soup.find_all('article', attrs={'class':'m-statement'})\n",
        "      for result in results:\n",
        "        date = result.find('footer',attrs={'class':'m-statement__footer'}).text.split(\"•\")[1].rstrip(\"\\n\")\n",
        "        reporter = result.find('footer',attrs={'class':'m-statement__footer'}).text.split(\"•\")[0].replace(\"\\nBy\",\"\")   \n",
        "        author = result.find('a',attrs={'class':'m-statement__name'}).text.replace(\"\\n\",\"\")\n",
        "        statement =  result.find('div', attrs = {'class':'m-statement__quote'}).find('a').text.replace(\"\\n\",\"\")\n",
        "        statement_descr = result.find('div', {'class':'m-statement__desc'}).text.replace(\"\\n\",\"\")\n",
        "        article_url =  result.find('a')['href']\n",
        "        verdict = result.find('img', attrs = {'class':'c-image__thumb'}, alt=True).attrs['alt']\n",
        "        records.append(( date, issue, reporter, author, statement, statement_descr, verdict, article_url))\n",
        "  return records\n",
        "\n",
        "records = scrape_data_from_politifact()\n",
        "df_politifact = pd.DataFrame(records,\n",
        "                         columns=['Date', 'Issue','Reporter','Author', 'Statement', 'Description', 'Verdict', 'Url'])  \n",
        "df_politifact.head()"
      ],
      "execution_count": 3,
      "outputs": [
        {
          "output_type": "execute_result",
          "data": {
            "text/html": [
              "<div>\n",
              "<style scoped>\n",
              "    .dataframe tbody tr th:only-of-type {\n",
              "        vertical-align: middle;\n",
              "    }\n",
              "\n",
              "    .dataframe tbody tr th {\n",
              "        vertical-align: top;\n",
              "    }\n",
              "\n",
              "    .dataframe thead th {\n",
              "        text-align: right;\n",
              "    }\n",
              "</style>\n",
              "<table border=\"1\" class=\"dataframe\">\n",
              "  <thead>\n",
              "    <tr style=\"text-align: right;\">\n",
              "      <th></th>\n",
              "      <th>Date</th>\n",
              "      <th>Issue</th>\n",
              "      <th>Reporter</th>\n",
              "      <th>Author</th>\n",
              "      <th>Statement</th>\n",
              "      <th>Description</th>\n",
              "      <th>Verdict</th>\n",
              "      <th>Url</th>\n",
              "    </tr>\n",
              "  </thead>\n",
              "  <tbody>\n",
              "    <tr>\n",
              "      <th>0</th>\n",
              "      <td>May 7, 2021</td>\n",
              "      <td>Abortion</td>\n",
              "      <td>Bill McCarthy</td>\n",
              "      <td>Facebook posts</td>\n",
              "      <td>Says Chelsea Clinton tweeted, \"If Jesus were a...</td>\n",
              "      <td>stated on May 7, 2021 in a Facebook post:</td>\n",
              "      <td>pants-fire</td>\n",
              "      <td>/personalities/facebook-posts/</td>\n",
              "    </tr>\n",
              "    <tr>\n",
              "      <th>1</th>\n",
              "      <td>March 31, 2021</td>\n",
              "      <td>Abortion</td>\n",
              "      <td>Tom Kertscher</td>\n",
              "      <td>Facebook posts</td>\n",
              "      <td>“Joe Biden puts pro-life groups on domestic ex...</td>\n",
              "      <td>stated on March 29, 2021 in a Facebook post:</td>\n",
              "      <td>barely-true</td>\n",
              "      <td>/personalities/facebook-posts/</td>\n",
              "    </tr>\n",
              "    <tr>\n",
              "      <th>2</th>\n",
              "      <td>February 12, 2021</td>\n",
              "      <td>Abortion</td>\n",
              "      <td>Brandon Mulder</td>\n",
              "      <td>Greg Abbott</td>\n",
              "      <td>“Innocent lives will be saved” by ending taxpa...</td>\n",
              "      <td>stated on January 24, 2021 in a tweet:</td>\n",
              "      <td>false</td>\n",
              "      <td>/personalities/greg-abbott/</td>\n",
              "    </tr>\n",
              "    <tr>\n",
              "      <th>3</th>\n",
              "      <td>November 18, 2020</td>\n",
              "      <td>Abortion</td>\n",
              "      <td>Noah Y. Kim</td>\n",
              "      <td>Facebook posts</td>\n",
              "      <td>There is “aborted male fetus” in the Oxford-As...</td>\n",
              "      <td>stated on November 15, 2020 in a Facebook post:</td>\n",
              "      <td>false</td>\n",
              "      <td>/personalities/facebook-posts/</td>\n",
              "    </tr>\n",
              "    <tr>\n",
              "      <th>4</th>\n",
              "      <td>October 14, 2020</td>\n",
              "      <td>Abortion</td>\n",
              "      <td>Tom Kertscher</td>\n",
              "      <td>Tommy Tuberville</td>\n",
              "      <td>Says Doug Jones \"has voted to spend our tax do...</td>\n",
              "      <td>stated on October 8, 2020 in an ad:</td>\n",
              "      <td>false</td>\n",
              "      <td>/personalities/tommy-tuberville/</td>\n",
              "    </tr>\n",
              "  </tbody>\n",
              "</table>\n",
              "</div>"
            ],
            "text/plain": [
              "                 Date     Issue  ...      Verdict                               Url\n",
              "0         May 7, 2021  Abortion  ...   pants-fire    /personalities/facebook-posts/\n",
              "1      March 31, 2021  Abortion  ...  barely-true    /personalities/facebook-posts/\n",
              "2   February 12, 2021  Abortion  ...        false       /personalities/greg-abbott/\n",
              "3   November 18, 2020  Abortion  ...        false    /personalities/facebook-posts/\n",
              "4    October 14, 2020  Abortion  ...        false  /personalities/tommy-tuberville/\n",
              "\n",
              "[5 rows x 8 columns]"
            ]
          },
          "metadata": {
            "tags": []
          },
          "execution_count": 3
        }
      ]
    },
    {
      "cell_type": "markdown",
      "metadata": {
        "id": "YUH7jv5KrgG-"
      },
      "source": [
        "###1.2.Scrape data from twitter"
      ]
    },
    {
      "cell_type": "code",
      "metadata": {
        "id": "Q4IUPTjmmcy4"
      },
      "source": [
        "!pip install -q datasketch\n",
        "!pip install -q networkx "
      ],
      "execution_count": 4,
      "outputs": []
    },
    {
      "cell_type": "code",
      "metadata": {
        "id": "huNUYbGMmKHm"
      },
      "source": [
        "import tweepy\n",
        "from tweepy import OAuthHandler\n",
        "import pandas as pd\n",
        "import numpy as np\n",
        "import re\n",
        "import time\n",
        "from datasketch import MinHash, MinHashLSH"
      ],
      "execution_count": 5,
      "outputs": []
    },
    {
      "cell_type": "code",
      "metadata": {
        "colab": {
          "base_uri": "https://localhost:8080/",
          "height": 204
        },
        "id": "o53hhvmfmKmZ",
        "outputId": "aad1b7a9-a78d-449c-fbab-76ee772b406f"
      },
      "source": [
        "def scrape_data_from_twitter():\n",
        "  consumer_key = \"rXTydsEkrpR8QbwJZnAFYPp1q\"\n",
        "  consumer_secret = \"tuvujeytcDws2H1rkinWALUwO75Dk9e7iB9n57FK31HKejEMwl\"\n",
        "  access_token = \"1309507240500457472-sfNmQpz6JriI3L1kE0uRoDgN0W7Z1l\"\n",
        "  access_token_secret = \"IyDV3VvEE1xcTtYPYlAB1BRIB3J0dCjscy6LZigjH8rzn\"\n",
        "\n",
        "\n",
        "  auth = tweepy.OAuthHandler(consumer_key, consumer_secret)\n",
        "  auth.set_access_token(access_token, access_token_secret)\n",
        "\n",
        "  api = tweepy.API(auth, wait_on_rate_limit=True, wait_on_rate_limit_notify=True)\n",
        "\n",
        "  tweets = []\n",
        "\n",
        "  count = 1\n",
        "\n",
        "  \"\"\"if you don't add since= as one of the parameters, Twitter will sample the last 7 days worth of data depending\n",
        "  on how many total tweets there are with the specific hashtag, keyword, or key phrase that you are looking for. You can\n",
        "  manually add in the number of items (or tweets) you want to get back in the items() section.\"\"\"\n",
        "\n",
        "  for tweet in tweepy.Cursor(api.search, q=\"#breaking\", count=450, since='2020-04-10', lang='en').items(5000):\n",
        "    count += 1\n",
        "    try:\n",
        "      data = [tweet.text, tweet.retweet_count, tweet.user.followers_count]\n",
        "      data = tuple(data)\n",
        "      tweets.append(data)\n",
        "    \n",
        "    except tweepy.TweepError as e:\n",
        "      print(e.reason)\n",
        "      continue\n",
        "\n",
        "    except StopIteration:\n",
        "      break\n",
        "  return tweets\n",
        "\n",
        "tweets = scrape_data_from_twitter()\n",
        "df_tweet = pd.DataFrame(tweets, columns = ['Statement', 'NumOfRetweets', 'UserNumOfFollowers'])\n",
        "df_tweet = df_tweet[:1000]\n",
        "df_tweet.head()"
      ],
      "execution_count": 6,
      "outputs": [
        {
          "output_type": "execute_result",
          "data": {
            "text/html": [
              "<div>\n",
              "<style scoped>\n",
              "    .dataframe tbody tr th:only-of-type {\n",
              "        vertical-align: middle;\n",
              "    }\n",
              "\n",
              "    .dataframe tbody tr th {\n",
              "        vertical-align: top;\n",
              "    }\n",
              "\n",
              "    .dataframe thead th {\n",
              "        text-align: right;\n",
              "    }\n",
              "</style>\n",
              "<table border=\"1\" class=\"dataframe\">\n",
              "  <thead>\n",
              "    <tr style=\"text-align: right;\">\n",
              "      <th></th>\n",
              "      <th>Statement</th>\n",
              "      <th>NumOfRetweets</th>\n",
              "      <th>UserNumOfFollowers</th>\n",
              "    </tr>\n",
              "  </thead>\n",
              "  <tbody>\n",
              "    <tr>\n",
              "      <th>0</th>\n",
              "      <td>RT @AlexWardVox: #BREAKING: HFAC Chair @RepGre...</td>\n",
              "      <td>496</td>\n",
              "      <td>593</td>\n",
              "    </tr>\n",
              "    <tr>\n",
              "      <th>1</th>\n",
              "      <td>#Breaking - A swathe of the Greenland ice shee...</td>\n",
              "      <td>0</td>\n",
              "      <td>342</td>\n",
              "    </tr>\n",
              "    <tr>\n",
              "      <th>2</th>\n",
              "      <td>RT @CBSLA: #BREAKING: Monterey Park police hav...</td>\n",
              "      <td>2</td>\n",
              "      <td>891</td>\n",
              "    </tr>\n",
              "    <tr>\n",
              "      <th>3</th>\n",
              "      <td>RT @davejourno: #BREAKING: Planned Parenthood ...</td>\n",
              "      <td>1</td>\n",
              "      <td>60516</td>\n",
              "    </tr>\n",
              "    <tr>\n",
              "      <th>4</th>\n",
              "      <td>HAPPENING NOW: Authorities investigating shoot...</td>\n",
              "      <td>0</td>\n",
              "      <td>438211</td>\n",
              "    </tr>\n",
              "  </tbody>\n",
              "</table>\n",
              "</div>"
            ],
            "text/plain": [
              "                                           Statement  ...  UserNumOfFollowers\n",
              "0  RT @AlexWardVox: #BREAKING: HFAC Chair @RepGre...  ...                 593\n",
              "1  #Breaking - A swathe of the Greenland ice shee...  ...                 342\n",
              "2  RT @CBSLA: #BREAKING: Monterey Park police hav...  ...                 891\n",
              "3  RT @davejourno: #BREAKING: Planned Parenthood ...  ...               60516\n",
              "4  HAPPENING NOW: Authorities investigating shoot...  ...              438211\n",
              "\n",
              "[5 rows x 3 columns]"
            ]
          },
          "metadata": {
            "tags": []
          },
          "execution_count": 6
        }
      ]
    },
    {
      "cell_type": "markdown",
      "metadata": {
        "id": "bb3Z7vsICzqB"
      },
      "source": [
        "###1.3.Scrapte data from newsapi"
      ]
    },
    {
      "cell_type": "code",
      "metadata": {
        "id": "JAhvPEQ_C44Q",
        "colab": {
          "base_uri": "https://localhost:8080/",
          "height": 204
        },
        "outputId": "2b38ca17-d302-4f51-add0-6620b4834203"
      },
      "source": [
        " def scrape_data_from_newsapi():\n",
        "   # BBC news api\n",
        "   my_url = \"https://newsapi.org/v2/top-headlines?country=us&category=general&apiKey=4aa01326eb3147a881ad8f93863c9663\"\n",
        "   my_open_bbc_page = requests.get(my_url).json()\n",
        "   my_article = my_open_bbc_page[\"articles\"]\n",
        "   my_results = []\n",
        "   for ar in my_article:\n",
        "      my_results.append(ar[\"title\"])\n",
        "\n",
        "   return my_results\n",
        "\n",
        "news = scrape_data_from_newsapi()\n",
        "df_news = pd.DataFrame(news, columns = ['Statement'])\n",
        "df_news.head()"
      ],
      "execution_count": 7,
      "outputs": [
        {
          "output_type": "execute_result",
          "data": {
            "text/html": [
              "<div>\n",
              "<style scoped>\n",
              "    .dataframe tbody tr th:only-of-type {\n",
              "        vertical-align: middle;\n",
              "    }\n",
              "\n",
              "    .dataframe tbody tr th {\n",
              "        vertical-align: top;\n",
              "    }\n",
              "\n",
              "    .dataframe thead th {\n",
              "        text-align: right;\n",
              "    }\n",
              "</style>\n",
              "<table border=\"1\" class=\"dataframe\">\n",
              "  <thead>\n",
              "    <tr style=\"text-align: right;\">\n",
              "      <th></th>\n",
              "      <th>Statement</th>\n",
              "    </tr>\n",
              "  </thead>\n",
              "  <tbody>\n",
              "    <tr>\n",
              "      <th>0</th>\n",
              "      <td>Bidens’ Taxable Income Came to $607,336 in 202...</td>\n",
              "    </tr>\n",
              "    <tr>\n",
              "      <th>1</th>\n",
              "      <td>Justin Hartley Privately Marries Sofia Pernas ...</td>\n",
              "    </tr>\n",
              "    <tr>\n",
              "      <th>2</th>\n",
              "      <td>EV start-up Fisker will not accept or invest i...</td>\n",
              "    </tr>\n",
              "    <tr>\n",
              "      <th>3</th>\n",
              "      <td>Google is teasing a big Wear OS update for sma...</td>\n",
              "    </tr>\n",
              "    <tr>\n",
              "      <th>4</th>\n",
              "      <td>How Trump and McConnell set the final pieces f...</td>\n",
              "    </tr>\n",
              "  </tbody>\n",
              "</table>\n",
              "</div>"
            ],
            "text/plain": [
              "                                           Statement\n",
              "0  Bidens’ Taxable Income Came to $607,336 in 202...\n",
              "1  Justin Hartley Privately Marries Sofia Pernas ...\n",
              "2  EV start-up Fisker will not accept or invest i...\n",
              "3  Google is teasing a big Wear OS update for sma...\n",
              "4  How Trump and McConnell set the final pieces f..."
            ]
          },
          "metadata": {
            "tags": []
          },
          "execution_count": 7
        }
      ]
    },
    {
      "cell_type": "markdown",
      "metadata": {
        "id": "B3so3XNt5PXg"
      },
      "source": [
        "**Text Preprocessing**"
      ]
    },
    {
      "cell_type": "code",
      "metadata": {
        "id": "dw71eNinwMKk"
      },
      "source": [
        "df = df_tweet.copy()"
      ],
      "execution_count": 8,
      "outputs": []
    },
    {
      "cell_type": "code",
      "metadata": {
        "id": "mvi7pt-d5R6E"
      },
      "source": [
        "stopwords = stopwords.words('english')\n",
        "stopwords.append(['breaking', 'BREAKING'])\n",
        "\n",
        "def get_text_processing(text):\n",
        "    no_punctuation = [char for char in text if char not in string.punctuation]\n",
        "    no_punctuation = ''.join(no_punctuation)\n",
        "    return ' '.join([word for word in no_punctuation.split() if word.lower() not in stopwords])"
      ],
      "execution_count": 9,
      "outputs": []
    },
    {
      "cell_type": "code",
      "metadata": {
        "id": "52_Rbc3p5953"
      },
      "source": [
        "df['Statement'] = df['Statement'].apply(get_text_processing)"
      ],
      "execution_count": 10,
      "outputs": []
    },
    {
      "cell_type": "markdown",
      "metadata": {
        "id": "55CcQYeeMt7m"
      },
      "source": [
        "##2.Individual Work"
      ]
    },
    {
      "cell_type": "markdown",
      "metadata": {
        "id": "l2ppN_Gj3MXZ"
      },
      "source": [
        "### 2.1.Microfactors generation (Yuxing)"
      ]
    },
    {
      "cell_type": "markdown",
      "metadata": {
        "id": "rkFWFspPVze9"
      },
      "source": [
        "**Generate Microfactors for Factor PsychologyUtilites**"
      ]
    },
    {
      "cell_type": "markdown",
      "metadata": {
        "id": "UxDEvJZuv7yu"
      },
      "source": [
        "**1. Group Confirmation**"
      ]
    },
    {
      "cell_type": "markdown",
      "metadata": {
        "id": "xaSuc38YFWNu"
      },
      "source": [
        "The more retweets, the more social confirmation. We split the number of retwees to 'Confirmation' as 'positive' and 'negative', 300 is the threshold we can use for a 'strong' confirmation or not."
      ]
    },
    {
      "cell_type": "code",
      "metadata": {
        "id": "QvsEfv5U8hNJ",
        "colab": {
          "base_uri": "https://localhost:8080/",
          "height": 282
        },
        "outputId": "d935aeda-cf7d-4f53-f7f3-466348c6ef96"
      },
      "source": [
        "pd.options.mode.chained_assignment = None\n",
        "\n",
        "ulimit = np.percentile(df.NumOfRetweets, 99)\n",
        "df['NumOfRetweets'].loc[df['NumOfRetweets']>ulimit] = ulimit\n",
        "llimit = np.percentile(df.NumOfRetweets.values, 1)\n",
        "df['NumOfRetweets'].loc[df['NumOfRetweets']<llimit] = llimit\n",
        "df['NumOfRetweets'].plot.hist(color='#86bf91')"
      ],
      "execution_count": 11,
      "outputs": [
        {
          "output_type": "execute_result",
          "data": {
            "text/plain": [
              "<matplotlib.axes._subplots.AxesSubplot at 0x7f1b5eb27950>"
            ]
          },
          "metadata": {
            "tags": []
          },
          "execution_count": 11
        },
        {
          "output_type": "display_data",
          "data": {
            "image/png": "[encoded data removed]",
            "text/plain": [
              "<Figure size 432x288 with 1 Axes>"
            ]
          },
          "metadata": {
            "tags": [],
            "needs_background": "light"
          }
        }
      ]
    },
    {
      "cell_type": "code",
      "metadata": {
        "id": "3i_NvNOaxDcO"
      },
      "source": [
        "def gen_microfactor_confirmation(df):\n",
        "  df['ScaleConfirmation'] = df['NumOfRetweets']/df['NumOfRetweets'].mean()\n",
        "  df['ScaleConfirmation'] = df['ScaleConfirmation'].apply(lambda x: 1 if x > 1 else x)\n",
        "  df['Confirmation'] = df['ScaleConfirmation'].apply(lambda x: 'Positive' if x > 0.2 else 'Negative')\n",
        "\n",
        "gen_microfactor_confirmation(df)"
      ],
      "execution_count": 12,
      "outputs": []
    },
    {
      "cell_type": "code",
      "metadata": {
        "id": "BiDBQZodEhIE",
        "colab": {
          "base_uri": "https://localhost:8080/",
          "height": 296
        },
        "outputId": "d5fe2e72-1bdf-496c-be57-ac2de2925562"
      },
      "source": [
        "sns.set_style('whitegrid')\n",
        "sns.countplot(x='Confirmation',data=df, palette='summer')"
      ],
      "execution_count": 13,
      "outputs": [
        {
          "output_type": "execute_result",
          "data": {
            "text/plain": [
              "<matplotlib.axes._subplots.AxesSubplot at 0x7f1b5eb7f690>"
            ]
          },
          "metadata": {
            "tags": []
          },
          "execution_count": 13
        },
        {
          "output_type": "display_data",
          "data": {
            "image/png": "[encoded data removed]",
            "text/plain": [
              "<Figure size 432x288 with 1 Axes>"
            ]
          },
          "metadata": {
            "tags": []
          }
        }
      ]
    },
    {
      "cell_type": "markdown",
      "metadata": {
        "id": "-wctT1YPwH58"
      },
      "source": [
        "**2. Author Sentiment**"
      ]
    },
    {
      "cell_type": "markdown",
      "metadata": {
        "id": "Zgl8lL-96Z74"
      },
      "source": [
        "We use SentimentIntensityAnalyzer to detect the score of sentiment."
      ]
    },
    {
      "cell_type": "code",
      "metadata": {
        "id": "RqSTN1I0gXHV"
      },
      "source": [
        "def get_text_sentiment(text):\n",
        "  analyzer = SentimentIntensityAnalyzer()\n",
        "  _sentiment = analyzer.polarity_scores(text)[\"compound\"]\n",
        "  return abs(_sentiment)"
      ],
      "execution_count": 14,
      "outputs": []
    },
    {
      "cell_type": "code",
      "metadata": {
        "id": "smSRphhgkT8T"
      },
      "source": [
        "df['ScaleSentiment'] = df['Statement'].apply(get_text_sentiment)\n",
        "df['Sentiment'] = df['ScaleSentiment'].apply(lambda x: 'Positive' if float(x) > 0.4 else 'Negative')"
      ],
      "execution_count": 15,
      "outputs": []
    },
    {
      "cell_type": "code",
      "metadata": {
        "id": "5pX12JjpVFRJ",
        "colab": {
          "base_uri": "https://localhost:8080/",
          "height": 296
        },
        "outputId": "67ea2434-c91d-4653-b055-96be033c67ea"
      },
      "source": [
        "sns.set_style('whitegrid')\n",
        "sns.countplot(x='Sentiment',data=df, palette='summer')"
      ],
      "execution_count": 16,
      "outputs": [
        {
          "output_type": "execute_result",
          "data": {
            "text/plain": [
              "<matplotlib.axes._subplots.AxesSubplot at 0x7f1b5ee77110>"
            ]
          },
          "metadata": {
            "tags": []
          },
          "execution_count": 16
        },
        {
          "output_type": "display_data",
          "data": {
            "image/png": "[encoded data removed]",
            "text/plain": [
              "<Figure size 432x288 with 1 Axes>"
            ]
          },
          "metadata": {
            "tags": []
          }
        }
      ]
    },
    {
      "cell_type": "markdown",
      "metadata": {
        "id": "NS8-7duA59C7"
      },
      "source": [
        "**3. Opinion Leader**"
      ]
    },
    {
      "cell_type": "markdown",
      "metadata": {
        "id": "aqYWXmgh6Fjc"
      },
      "source": [
        "The opinion leaders are people who have many followers, we will use use number of followers of twitter user to detect the score of opinion leader."
      ]
    },
    {
      "cell_type": "code",
      "metadata": {
        "id": "431o22HP6WxD"
      },
      "source": [
        "def gen_microfactor_opinionleader(df):\n",
        "  df['ScaleOpinionLeader'] = df['UserNumOfFollowers']/df['UserNumOfFollowers'].mean()\n",
        "  df['ScaleOpinionLeader'] = df['ScaleOpinionLeader'].apply(lambda x: 1 if x > 1 else x)\n",
        "  df['OpinionLeader'] = df['ScaleOpinionLeader'].apply(lambda x: 'Positive' if x > 0.2 else 'Negative')\n",
        "\n",
        "gen_microfactor_opinionleader(df)"
      ],
      "execution_count": 17,
      "outputs": []
    },
    {
      "cell_type": "code",
      "metadata": {
        "id": "TglKEwxS2DcK",
        "colab": {
          "base_uri": "https://localhost:8080/",
          "height": 296
        },
        "outputId": "56b2e10f-f523-473a-8f7a-a8d4a1b7b6d9"
      },
      "source": [
        "sns.set_style('whitegrid')\n",
        "sns.countplot(x='OpinionLeader',data=df, palette='summer')"
      ],
      "execution_count": 18,
      "outputs": [
        {
          "output_type": "execute_result",
          "data": {
            "text/plain": [
              "<matplotlib.axes._subplots.AxesSubplot at 0x7f1b5f3e5ed0>"
            ]
          },
          "metadata": {
            "tags": []
          },
          "execution_count": 18
        },
        {
          "output_type": "display_data",
          "data": {
            "image/png": "[encoded data removed]",
            "text/plain": [
              "<Figure size 432x288 with 1 Axes>"
            ]
          },
          "metadata": {
            "tags": []
          }
        }
      ]
    },
    {
      "cell_type": "markdown",
      "metadata": {
        "id": "Ik4VTN7KsDOa"
      },
      "source": [
        "###2.2.Factor generation(Yuxing)\n",
        "* Combine micro-factors to factor PsychologyUtilites using polynomial"
      ]
    },
    {
      "cell_type": "code",
      "metadata": {
        "id": "yFeqv9LG7N5N"
      },
      "source": [
        "# Get factor from micro factors by polynomial\n",
        "df['ScalePsychology'] = df['ScaleConfirmation'] * 0.34 + df['ScaleSentiment'] * 0.33 + df['ScaleOpinionLeader'] * 0.33\n",
        "df['PsychologyUtilites'] = df['ScalePsychology'].apply(lambda x: 'Positive' if x > 0.3 else 'Negative')"
      ],
      "execution_count": 19,
      "outputs": []
    },
    {
      "cell_type": "code",
      "metadata": {
        "id": "QLgllt-lnUFj",
        "colab": {
          "base_uri": "https://localhost:8080/",
          "height": 296
        },
        "outputId": "ef4f0871-4bea-4011-c469-e3d02a08dbc5"
      },
      "source": [
        "sns.set_style('whitegrid')\n",
        "sns.countplot(x='PsychologyUtilites',data=df, palette='summer')"
      ],
      "execution_count": 20,
      "outputs": [
        {
          "output_type": "execute_result",
          "data": {
            "text/plain": [
              "<matplotlib.axes._subplots.AxesSubplot at 0x7f1b5f493b50>"
            ]
          },
          "metadata": {
            "tags": []
          },
          "execution_count": 20
        },
        {
          "output_type": "display_data",
          "data": {
            "image/png": "[encoded data removed]",
            "text/plain": [
              "<Figure size 432x288 with 1 Axes>"
            ]
          },
          "metadata": {
            "tags": []
          }
        }
      ]
    },
    {
      "cell_type": "code",
      "metadata": {
        "id": "aMvgffdDOIbC",
        "colab": {
          "base_uri": "https://localhost:8080/"
        },
        "outputId": "ed62e130-d5d7-4e2f-f4ab-ea33e3d7d2eb"
      },
      "source": [
        "df.shape"
      ],
      "execution_count": 21,
      "outputs": [
        {
          "output_type": "execute_result",
          "data": {
            "text/plain": [
              "(1000, 11)"
            ]
          },
          "metadata": {
            "tags": []
          },
          "execution_count": 21
        }
      ]
    },
    {
      "cell_type": "markdown",
      "metadata": {
        "id": "AuADdT8UFgOy"
      },
      "source": [
        "**Construct a pipeline model with count vector Tfidf vector inside**"
      ]
    },
    {
      "cell_type": "markdown",
      "metadata": {
        "id": "okEtMpeHk8AU"
      },
      "source": [
        "Pipeline includes vectorization tfidf transformer and SVM training"
      ]
    },
    {
      "cell_type": "code",
      "metadata": {
        "id": "PAGbzfrrol9S"
      },
      "source": [
        "from sklearn.pipeline import Pipeline\n",
        "from sklearn.model_selection import cross_val_score\n",
        "from sklearn.model_selection import cross_validate\n",
        "from sklearn.tree import DecisionTreeClassifier\n",
        "from sklearn.linear_model import LogisticRegression\n",
        "from sklearn.svm import SVC\n",
        "import joblib\n",
        "\n",
        "# A pipeline with data preprocessing, training and prediction\n",
        "pipeline = Pipeline([\n",
        "    ('vect', CountVectorizer()),\n",
        "    ('tfidf', TfidfTransformer()),\n",
        "    ('svm', SVC(C=1, probability=True))\n",
        "])\n",
        "\n",
        "def data_to_pipeline(df, _source=None, _target=None, detailed_score=True):\n",
        "  # Split data for training and validation\n",
        "  X, y = df[_source].values, df[_target].values\n",
        "  X_train, X_test, y_train, y_test = train_test_split(X, y, test_size=0.30, random_state=42) \n",
        "  \n",
        "  # Training and prediction\n",
        "  pipeline.fit(X_train, y_train)\n",
        "  if detailed_score == False:\n",
        "    scores = cross_val_score(pipeline, X_test, y_test, cv=3)\n",
        "    print('now using %s to predict %s' % (_source, _target))\n",
        "    print('cross validation scores:', scores)\n",
        "    print('prediction score:', pipeline.score(X_test, y_test))\n",
        "  else:\n",
        "    scoring = ['accuracy', 'precision_macro', 'recall_macro', 'f1_macro', 'roc_auc']\n",
        "    scores = cross_validate(pipeline, X, y, cv=5,scoring=scoring)\n",
        "    print(\"accuracy: %0.2f \" % (scores['test_accuracy'].mean()))\n",
        "    print(\"precision: %0.2f \" % (scores['test_precision_macro'].mean()))\n",
        "    print(\"recall: %0.2f \" % (scores['test_recall_macro'].mean()))\n",
        "    print(\"f1: %0.2f \" % (scores['test_f1_macro'].mean()))\n",
        "    print(\"roc_auc: %0.2f \" % (scores['test_roc_auc'].mean()))\n",
        "  # Save the pickle file\n",
        "  pickle_filepath = '/content/' + _target + '_pipeline.pkl'\n",
        "  joblib.dump(pipeline, pickle_filepath)\n",
        "  print('pickle file is created:', pickle_filepath)\n",
        "  print('\\n')"
      ],
      "execution_count": 22,
      "outputs": []
    },
    {
      "cell_type": "code",
      "metadata": {
        "id": "2c7q_9SvBV8h",
        "colab": {
          "base_uri": "https://localhost:8080/"
        },
        "outputId": "71a3f619-5ba6-49b6-ae8e-3a500eaaa77d"
      },
      "source": [
        "def factor_1_pipeline(df):\n",
        "  data_to_pipeline(df, _source='Statement', _target='Sentiment')\n",
        "  data_to_pipeline(df, _source='Statement', _target='Confirmation')\n",
        "  data_to_pipeline(df, _source='Statement', _target='OpinionLeader')\n",
        "  data_to_pipeline(df, _source='Statement', _target='PsychologyUtilites')\n",
        "\n",
        "factor_1_pipeline(df)"
      ],
      "execution_count": 23,
      "outputs": [
        {
          "output_type": "stream",
          "text": [
            "accuracy: 0.92 \n",
            "precision: 0.94 \n",
            "recall: 0.91 \n",
            "f1: 0.92 \n",
            "roc_auc: 0.98 \n",
            "pickle file is created: /content/Sentiment_pipeline.pkl\n",
            "\n",
            "\n",
            "accuracy: 0.97 \n",
            "precision: 0.97 \n",
            "recall: 0.98 \n",
            "f1: 0.97 \n",
            "roc_auc: 1.00 \n",
            "pickle file is created: /content/Confirmation_pipeline.pkl\n",
            "\n",
            "\n",
            "accuracy: 0.79 \n",
            "precision: 0.53 \n",
            "recall: 0.50 \n",
            "f1: 0.46 \n",
            "roc_auc: 0.57 \n",
            "pickle file is created: /content/OpinionLeader_pipeline.pkl\n",
            "\n",
            "\n",
            "accuracy: 0.91 \n",
            "precision: 0.90 \n",
            "recall: 0.91 \n",
            "f1: 0.90 \n",
            "roc_auc: 0.95 \n",
            "pickle file is created: /content/PsychologyUtilites_pipeline.pkl\n",
            "\n",
            "\n"
          ],
          "name": "stdout"
        }
      ]
    },
    {
      "cell_type": "markdown",
      "metadata": {
        "id": "bZTHmnD7GwI2"
      },
      "source": [
        "### 2.3.Microfactors generation (Mayuri)"
      ]
    },
    {
      "cell_type": "markdown",
      "metadata": {
        "id": "nIF1_EZUWA0k"
      },
      "source": [
        "**Generate Microfactors for Factor Intent**"
      ]
    },
    {
      "cell_type": "markdown",
      "metadata": {
        "id": "tzl2keUcAvDg"
      },
      "source": [
        "**1. Utterance Score**"
      ]
    },
    {
      "cell_type": "markdown",
      "metadata": {
        "id": "cBwKD2KYCWUt"
      },
      "source": [
        "Where there are more sentences, there are more utterances. We can derive utterance from numberof sentences in the text."
      ]
    },
    {
      "cell_type": "code",
      "metadata": {
        "id": "OdmKn4WCGyr-"
      },
      "source": [
        "from collections import Counter\n",
        "import spacy\n",
        "\n",
        "nlp = spacy.load('en_core_web_sm')\n",
        "\n",
        "def get_sentences_num(text):\n",
        "  _doc = nlp(text)\n",
        "  sentences = list(_doc.sents)\n",
        "  return len(sentences)\n",
        "\n",
        "df['NumOfSent'] = df['Statement'].apply(get_sentences_num)"
      ],
      "execution_count": 24,
      "outputs": []
    },
    {
      "cell_type": "code",
      "metadata": {
        "id": "fHTPCIkTVmsa"
      },
      "source": [
        "def gen_microfactor_utterance(df):\n",
        "  df['ScaleUtterance'] = df['NumOfSent']/df['NumOfSent'].mean()\n",
        "  df['ScaleUtterancen'] = df['ScaleUtterance'].apply(lambda x: 1 if x > 1 else x)\n",
        "  df['Utterance'] = df['ScaleUtterance'].apply(lambda x: 'Positive' if x > 0.9 else 'Negative')\n",
        "\n",
        "gen_microfactor_utterance(df)"
      ],
      "execution_count": 25,
      "outputs": []
    },
    {
      "cell_type": "code",
      "metadata": {
        "id": "qXShrqWSBsJf",
        "colab": {
          "base_uri": "https://localhost:8080/",
          "height": 296
        },
        "outputId": "aa654d63-3f4d-4ef6-9a39-7e739a8b438b"
      },
      "source": [
        "sns.set_style('whitegrid')\n",
        "sns.countplot(x='Utterance',data=df, palette='summer')"
      ],
      "execution_count": 26,
      "outputs": [
        {
          "output_type": "execute_result",
          "data": {
            "text/plain": [
              "<matplotlib.axes._subplots.AxesSubplot at 0x7f1b5d7ff890>"
            ]
          },
          "metadata": {
            "tags": []
          },
          "execution_count": 26
        },
        {
          "output_type": "display_data",
          "data": {
            "image/png": "[encoded data removed]",
            "text/plain": [
              "<Figure size 432x288 with 1 Axes>"
            ]
          },
          "metadata": {
            "tags": []
          }
        }
      ]
    },
    {
      "cell_type": "markdown",
      "metadata": {
        "id": "T6ZOqGhRGRWl"
      },
      "source": [
        "**2.Speech Score**"
      ]
    },
    {
      "cell_type": "markdown",
      "metadata": {
        "id": "3mXn3pBtMno-"
      },
      "source": [
        "Where there are more verbs and nouns, there are more speech to make. We can derive speech from numberof verbs and nouns in the text."
      ]
    },
    {
      "cell_type": "code",
      "metadata": {
        "id": "gHNuLtN3GXtN"
      },
      "source": [
        "def get_verbnoun_num(text):\n",
        "  _doc = nlp(text)\n",
        "  _no_stopword_doc = [token for token in _doc if not token.is_stop]\n",
        "  return len(_no_stopword_doc)\n",
        "\n",
        "df['NumOfVerbNoun'] = df['Statement'].apply(get_verbnoun_num)"
      ],
      "execution_count": 27,
      "outputs": []
    },
    {
      "cell_type": "code",
      "metadata": {
        "id": "70Ln7p7hGi93"
      },
      "source": [
        "def gen_microfactor_speech(df):\n",
        "  df['ScaleSpeech'] = df['NumOfVerbNoun']/df['NumOfVerbNoun'].mean()\n",
        "  df['ScaleSpeech'] = df['ScaleSpeech'].apply(lambda x: 1 if x > 1 else x)\n",
        "  df['Speech'] = df['ScaleSpeech'].apply(lambda x: 'Positive' if x > 0.95 else 'Negative')\n",
        "\n",
        "gen_microfactor_speech(df)"
      ],
      "execution_count": 28,
      "outputs": []
    },
    {
      "cell_type": "code",
      "metadata": {
        "id": "HHd4Gt6sG74_",
        "colab": {
          "base_uri": "https://localhost:8080/",
          "height": 296
        },
        "outputId": "35edcfeb-8625-4414-d05d-6cc4445d82fe"
      },
      "source": [
        "sns.set_style('whitegrid')\n",
        "sns.countplot(x='Speech',data=df, palette='summer')"
      ],
      "execution_count": 29,
      "outputs": [
        {
          "output_type": "execute_result",
          "data": {
            "text/plain": [
              "<matplotlib.axes._subplots.AxesSubplot at 0x7f1b5cdbb7d0>"
            ]
          },
          "metadata": {
            "tags": []
          },
          "execution_count": 29
        },
        {
          "output_type": "display_data",
          "data": {
            "image/png": "[encoded data removed]",
            "text/plain": [
              "<Figure size 432x288 with 1 Axes>"
            ]
          },
          "metadata": {
            "tags": []
          }
        }
      ]
    },
    {
      "cell_type": "markdown",
      "metadata": {
        "id": "Y4evlxrLMeJK"
      },
      "source": [
        "**3.Sentiment**"
      ]
    },
    {
      "cell_type": "markdown",
      "metadata": {
        "id": "ggeMxni_MwP7"
      },
      "source": [
        "Sentiment is a micro factor of intent, also it is micro factor of psychology utility, which has been derived earlier."
      ]
    },
    {
      "cell_type": "code",
      "metadata": {
        "id": "Op0zkNMyMYwT",
        "colab": {
          "base_uri": "https://localhost:8080/"
        },
        "outputId": "4db87ffd-a19e-4d02-e775-c765896f8480"
      },
      "source": [
        "df['ScaleSentiment'].head()"
      ],
      "execution_count": 30,
      "outputs": [
        {
          "output_type": "execute_result",
          "data": {
            "text/plain": [
              "0    0.3182\n",
              "1    0.3612\n",
              "2    0.6249\n",
              "3    0.6705\n",
              "4    0.0000\n",
              "Name: ScaleSentiment, dtype: float64"
            ]
          },
          "metadata": {
            "tags": []
          },
          "execution_count": 30
        }
      ]
    },
    {
      "cell_type": "markdown",
      "metadata": {
        "id": "gsjqMF3ZLLvH"
      },
      "source": [
        "### 2.4.Factor generation(Mayuri)\n",
        "* Combine micro-factors to factor Intent using polynomial"
      ]
    },
    {
      "cell_type": "code",
      "metadata": {
        "id": "qrlwZeQELLvH"
      },
      "source": [
        "# Get factor from micro factors by polynomial\n",
        "df['ScaleIntent'] = df['ScaleUtterancen'] * 0.3 + df['ScaleSpeech'] * 0.3 + df['ScaleSentiment'] * 0.4\n",
        "df['Intent'] = df['ScaleIntent'].apply(lambda x: 'Positive' if x > 0.65 else 'Negative')"
      ],
      "execution_count": 31,
      "outputs": []
    },
    {
      "cell_type": "code",
      "metadata": {
        "id": "vBxxHDpxLpRD",
        "colab": {
          "base_uri": "https://localhost:8080/",
          "height": 296
        },
        "outputId": "39a3fa7d-6042-4921-ed7f-c9e493f0207d"
      },
      "source": [
        "sns.set_style('whitegrid')\n",
        "sns.countplot(x='Intent',data=df, palette='summer')"
      ],
      "execution_count": 32,
      "outputs": [
        {
          "output_type": "execute_result",
          "data": {
            "text/plain": [
              "<matplotlib.axes._subplots.AxesSubplot at 0x7f1b5cc108d0>"
            ]
          },
          "metadata": {
            "tags": []
          },
          "execution_count": 32
        },
        {
          "output_type": "display_data",
          "data": {
            "image/png": "[encoded data removed]",
            "text/plain": [
              "<Figure size 432x288 with 1 Axes>"
            ]
          },
          "metadata": {
            "tags": []
          }
        }
      ]
    },
    {
      "cell_type": "markdown",
      "metadata": {
        "id": "VUN5vdoMgA9v"
      },
      "source": [
        "###2.5.Factor generation (Arun)"
      ]
    },
    {
      "cell_type": "code",
      "metadata": {
        "id": "GWeNTWxvKpgj",
        "colab": {
          "base_uri": "https://localhost:8080/"
        },
        "outputId": "0dbcd7f6-1c66-480d-9664-3cc906676982"
      },
      "source": [
        "def factor_2_pipeline(df):\n",
        "  data_to_pipeline(df, _source='Statement', _target='Utterance')\n",
        "  data_to_pipeline(df, _source='Statement', _target='Speech')\n",
        "  data_to_pipeline(df, _source='Statement', _target='Intent')\n",
        "\n",
        "factor_2_pipeline(df)"
      ],
      "execution_count": 33,
      "outputs": [
        {
          "output_type": "stream",
          "text": [
            "accuracy: 0.95 \n",
            "precision: 0.96 \n",
            "recall: 0.93 \n",
            "f1: 0.95 \n",
            "roc_auc: 0.98 \n",
            "pickle file is created: /content/Utterance_pipeline.pkl\n",
            "\n",
            "\n",
            "accuracy: 0.91 \n",
            "precision: 0.91 \n",
            "recall: 0.86 \n",
            "f1: 0.88 \n",
            "roc_auc: 0.98 \n",
            "pickle file is created: /content/Speech_pipeline.pkl\n",
            "\n",
            "\n",
            "accuracy: 0.93 \n",
            "precision: 0.93 \n",
            "recall: 0.94 \n",
            "f1: 0.93 \n",
            "roc_auc: 0.99 \n",
            "pickle file is created: /content/Intent_pipeline.pkl\n",
            "\n",
            "\n"
          ],
          "name": "stdout"
        }
      ]
    },
    {
      "cell_type": "markdown",
      "metadata": {
        "id": "Jl3I183lRr40"
      },
      "source": [
        "## 3.Team Work"
      ]
    },
    {
      "cell_type": "markdown",
      "metadata": {
        "id": "CHo7uG_B21GU"
      },
      "source": [
        "###3.1.Load the pickled models for microfactors"
      ]
    },
    {
      "cell_type": "code",
      "metadata": {
        "id": "tpFRxQMw6YrK",
        "colab": {
          "base_uri": "https://localhost:8080/"
        },
        "outputId": "c8c3b8ab-95f6-41cb-a123-3db57187244b"
      },
      "source": [
        "! ls -l /content/*.pkl"
      ],
      "execution_count": 34,
      "outputs": [
        {
          "output_type": "stream",
          "text": [
            "-rw-r--r-- 1 root root 155636 May 18 00:54 /content/Confirmation_pipeline.pkl\n",
            "-rw-r--r-- 1 root root 152855 May 18 00:57 /content/Intent_pipeline.pkl\n",
            "-rw-r--r-- 1 root root 188540 May 18 00:54 /content/OpinionLeader_pipeline.pkl\n",
            "-rw-r--r-- 1 root root 162164 May 18 00:54 /content/PsychologyUtilites_pipeline.pkl\n",
            "-rw-r--r-- 1 root root 152639 May 18 00:54 /content/Sentiment_pipeline.pkl\n",
            "-rw-r--r-- 1 root root 152063 May 18 00:57 /content/Speech_pipeline.pkl\n",
            "-rw-r--r-- 1 root root 151199 May 18 00:57 /content/Utterance_pipeline.pkl\n",
            "-rw-r--r-- 1 root root   5570 May 18 00:52 /content/Verdict_pipeline.pkl\n"
          ],
          "name": "stdout"
        }
      ]
    },
    {
      "cell_type": "code",
      "metadata": {
        "id": "8ywq-gR921WD"
      },
      "source": [
        "import joblib\n",
        "\n",
        "microfactor_list = [\n",
        "                    'Sentiment', \n",
        "                    'Confirmation', \n",
        "                    'OpinionLeader',\n",
        "                    'Utterance',\n",
        "                    'Speech',\n",
        "                    'Intent'\n",
        "                  ]\n",
        "\n",
        "def get_micrafactor_from_pickles_(df):\n",
        "  # Preprocessing\n",
        "  df['Statement'] = df['Statement'].apply(get_text_processing)\n",
        "  statement = df['Statement'].to_numpy()\n",
        "  for microfactor in microfactor_list:\n",
        "    print('generating microfactor :', microfactor)\n",
        "    # load microfactor pickle\n",
        "    pickle_filepath = '/content/{}_pipeline.pkl'.format(microfactor)\n",
        "    microfactor_model = joblib.load(open(pickle_filepath, 'rb'))\n",
        "    # create new microfact column\n",
        "    df[microfactor] = microfactor_model.predict_proba(statement)[:,1]\n",
        "    df[microfactor] = df[microfactor].apply(lambda x: float(x))\n"
      ],
      "execution_count": 35,
      "outputs": []
    },
    {
      "cell_type": "markdown",
      "metadata": {
        "id": "R586EHFw3LSB"
      },
      "source": [
        "###3.2.Ensemble a true-o-meter classification pipeline"
      ]
    },
    {
      "cell_type": "markdown",
      "metadata": {
        "id": "aH-A65lYqycQ"
      },
      "source": [
        "**Use politicfact dataset to generate microfactors and train Verdict**"
      ]
    },
    {
      "cell_type": "code",
      "metadata": {
        "id": "omfvnRMjGdH3",
        "colab": {
          "base_uri": "https://localhost:8080/"
        },
        "outputId": "e99f030c-a6ab-4446-d788-f09a45c0af98"
      },
      "source": [
        "df = df_politifact.copy()\n",
        "get_micrafactor_from_pickles_(df)"
      ],
      "execution_count": 36,
      "outputs": [
        {
          "output_type": "stream",
          "text": [
            "generating microfactor : Sentiment\n",
            "generating microfactor : Confirmation\n",
            "generating microfactor : OpinionLeader\n",
            "generating microfactor : Utterance\n",
            "generating microfactor : Speech\n",
            "generating microfactor : Intent\n"
          ],
          "name": "stdout"
        }
      ]
    },
    {
      "cell_type": "code",
      "metadata": {
        "id": "NPfMYdwkmTf0",
        "colab": {
          "base_uri": "https://localhost:8080/",
          "height": 496
        },
        "outputId": "9d361f07-2373-4058-fa9a-8997a8880c96"
      },
      "source": [
        "df.head()"
      ],
      "execution_count": 37,
      "outputs": [
        {
          "output_type": "execute_result",
          "data": {
            "text/html": [
              "<div>\n",
              "<style scoped>\n",
              "    .dataframe tbody tr th:only-of-type {\n",
              "        vertical-align: middle;\n",
              "    }\n",
              "\n",
              "    .dataframe tbody tr th {\n",
              "        vertical-align: top;\n",
              "    }\n",
              "\n",
              "    .dataframe thead th {\n",
              "        text-align: right;\n",
              "    }\n",
              "</style>\n",
              "<table border=\"1\" class=\"dataframe\">\n",
              "  <thead>\n",
              "    <tr style=\"text-align: right;\">\n",
              "      <th></th>\n",
              "      <th>Date</th>\n",
              "      <th>Issue</th>\n",
              "      <th>Reporter</th>\n",
              "      <th>Author</th>\n",
              "      <th>Statement</th>\n",
              "      <th>Description</th>\n",
              "      <th>Verdict</th>\n",
              "      <th>Url</th>\n",
              "      <th>Sentiment</th>\n",
              "      <th>Confirmation</th>\n",
              "      <th>OpinionLeader</th>\n",
              "      <th>Utterance</th>\n",
              "      <th>Speech</th>\n",
              "      <th>Intent</th>\n",
              "    </tr>\n",
              "  </thead>\n",
              "  <tbody>\n",
              "    <tr>\n",
              "      <th>0</th>\n",
              "      <td>May 7, 2021</td>\n",
              "      <td>Abortion</td>\n",
              "      <td>Bill McCarthy</td>\n",
              "      <td>Facebook posts</td>\n",
              "      <td>Says Chelsea Clinton tweeted Jesus alive today...</td>\n",
              "      <td>stated on May 7, 2021 in a Facebook post:</td>\n",
              "      <td>pants-fire</td>\n",
              "      <td>/personalities/facebook-posts/</td>\n",
              "      <td>0.330274</td>\n",
              "      <td>0.089475</td>\n",
              "      <td>0.199147</td>\n",
              "      <td>0.107405</td>\n",
              "      <td>0.572015</td>\n",
              "      <td>0.285027</td>\n",
              "    </tr>\n",
              "    <tr>\n",
              "      <th>1</th>\n",
              "      <td>March 31, 2021</td>\n",
              "      <td>Abortion</td>\n",
              "      <td>Tom Kertscher</td>\n",
              "      <td>Facebook posts</td>\n",
              "      <td>“Joe Biden puts prolife groups domestic extrem...</td>\n",
              "      <td>stated on March 29, 2021 in a Facebook post:</td>\n",
              "      <td>barely-true</td>\n",
              "      <td>/personalities/facebook-posts/</td>\n",
              "      <td>0.776938</td>\n",
              "      <td>0.114538</td>\n",
              "      <td>0.209153</td>\n",
              "      <td>0.349909</td>\n",
              "      <td>0.481800</td>\n",
              "      <td>0.759612</td>\n",
              "    </tr>\n",
              "    <tr>\n",
              "      <th>2</th>\n",
              "      <td>February 12, 2021</td>\n",
              "      <td>Abortion</td>\n",
              "      <td>Brandon Mulder</td>\n",
              "      <td>Greg Abbott</td>\n",
              "      <td>“Innocent lives saved” ending taxpayer funding...</td>\n",
              "      <td>stated on January 24, 2021 in a tweet:</td>\n",
              "      <td>false</td>\n",
              "      <td>/personalities/greg-abbott/</td>\n",
              "      <td>0.641573</td>\n",
              "      <td>0.079537</td>\n",
              "      <td>0.201767</td>\n",
              "      <td>0.130227</td>\n",
              "      <td>0.739028</td>\n",
              "      <td>0.556390</td>\n",
              "    </tr>\n",
              "    <tr>\n",
              "      <th>3</th>\n",
              "      <td>November 18, 2020</td>\n",
              "      <td>Abortion</td>\n",
              "      <td>Noah Y. Kim</td>\n",
              "      <td>Facebook posts</td>\n",
              "      <td>“aborted male fetus” OxfordAstraZeneca “Covid ...</td>\n",
              "      <td>stated on November 15, 2020 in a Facebook post:</td>\n",
              "      <td>false</td>\n",
              "      <td>/personalities/facebook-posts/</td>\n",
              "      <td>0.097020</td>\n",
              "      <td>0.084863</td>\n",
              "      <td>0.197943</td>\n",
              "      <td>0.310105</td>\n",
              "      <td>0.828584</td>\n",
              "      <td>0.140971</td>\n",
              "    </tr>\n",
              "    <tr>\n",
              "      <th>4</th>\n",
              "      <td>October 14, 2020</td>\n",
              "      <td>Abortion</td>\n",
              "      <td>Tom Kertscher</td>\n",
              "      <td>Tommy Tuberville</td>\n",
              "      <td>Says Doug Jones voted spend tax dollars latete...</td>\n",
              "      <td>stated on October 8, 2020 in an ad:</td>\n",
              "      <td>false</td>\n",
              "      <td>/personalities/tommy-tuberville/</td>\n",
              "      <td>0.257453</td>\n",
              "      <td>0.223408</td>\n",
              "      <td>0.202277</td>\n",
              "      <td>0.092605</td>\n",
              "      <td>0.597155</td>\n",
              "      <td>0.337705</td>\n",
              "    </tr>\n",
              "  </tbody>\n",
              "</table>\n",
              "</div>"
            ],
            "text/plain": [
              "                 Date     Issue  ...    Speech    Intent\n",
              "0         May 7, 2021  Abortion  ...  0.572015  0.285027\n",
              "1      March 31, 2021  Abortion  ...  0.481800  0.759612\n",
              "2   February 12, 2021  Abortion  ...  0.739028  0.556390\n",
              "3   November 18, 2020  Abortion  ...  0.828584  0.140971\n",
              "4    October 14, 2020  Abortion  ...  0.597155  0.337705\n",
              "\n",
              "[5 rows x 14 columns]"
            ]
          },
          "metadata": {
            "tags": []
          },
          "execution_count": 37
        }
      ]
    },
    {
      "cell_type": "markdown",
      "metadata": {
        "id": "nIxVGNHcrtj-"
      },
      "source": [
        "**Use ensembled model and microfactors to train Verdict, model will be pickled in data_to_pipeline processing**"
      ]
    },
    {
      "cell_type": "code",
      "metadata": {
        "id": "YyOowx3oNL_Q",
        "colab": {
          "base_uri": "https://localhost:8080/"
        },
        "outputId": "11ac5c74-b159-47a7-fb7a-dcf791929bd5"
      },
      "source": [
        "pipeline = Pipeline([\n",
        "    ('standardscaler', StandardScaler()),\n",
        "    ('svm', SVC(C=1, probability=True))\n",
        "])\n",
        "\n",
        "data_to_pipeline(df, _source = microfactor_list, _target = 'Verdict', detailed_score=False)"
      ],
      "execution_count": 38,
      "outputs": [
        {
          "output_type": "stream",
          "text": [
            "now using ['Sentiment', 'Confirmation', 'OpinionLeader', 'Utterance', 'Speech', 'Intent'] to predict Verdict\n",
            "cross validation scores: [0.22916667 0.23404255 0.17021277]\n",
            "prediction score: 0.20422535211267606\n",
            "pickle file is created: /content/Verdict_pipeline.pkl\n",
            "\n",
            "\n"
          ],
          "name": "stdout"
        }
      ]
    },
    {
      "cell_type": "markdown",
      "metadata": {
        "id": "ttbvMNqL2_JW"
      },
      "source": [
        "###3.3.Automated Inference Pipeline\n"
      ]
    },
    {
      "cell_type": "markdown",
      "metadata": {
        "id": "UCP-VhCzReE3"
      },
      "source": [
        "**Load pickled true-o-meter pipeline**"
      ]
    },
    {
      "cell_type": "code",
      "metadata": {
        "id": "MBuqNrU6RffR"
      },
      "source": [
        "pickle_filepath = '/content/Verdict_pipeline.pkl'\n",
        "o_meter_model = joblib.load(open(pickle_filepath, 'rb'))"
      ],
      "execution_count": 39,
      "outputs": []
    },
    {
      "cell_type": "markdown",
      "metadata": {
        "id": "Q1WuitA3qCib"
      },
      "source": [
        "**Read a new piece of data from politifact**"
      ]
    },
    {
      "cell_type": "code",
      "metadata": {
        "id": "os7X1gZy3KWK"
      },
      "source": [
        "records = scrape_data_from_politifact(start=12, end=13)\n",
        "df = pd.DataFrame(records, columns=['Date', 'Issue','Reporter','Author', 'Statement', 'Description', 'Verdict', 'Url'])  "
      ],
      "execution_count": 40,
      "outputs": []
    },
    {
      "cell_type": "markdown",
      "metadata": {
        "id": "TjxtC2m5p4F0"
      },
      "source": [
        "**Predict and compare the Verdict**"
      ]
    },
    {
      "cell_type": "code",
      "metadata": {
        "id": "6C89fTR5p4SK",
        "colab": {
          "base_uri": "https://localhost:8080/",
          "height": 1000
        },
        "outputId": "265cb51d-a04d-4fa3-c395-305b1af14e56"
      },
      "source": [
        "get_micrafactor_from_pickles_(df)\n",
        "df['pred_verdict'] = o_meter_model.predict(df[microfactor_list])\n",
        "df_intestest = df[['Statement', 'Verdict', 'pred_verdict']]\n",
        "df_intestest"
      ],
      "execution_count": 41,
      "outputs": [
        {
          "output_type": "stream",
          "text": [
            "generating microfactor : Sentiment\n",
            "generating microfactor : Confirmation\n",
            "generating microfactor : OpinionLeader\n",
            "generating microfactor : Utterance\n",
            "generating microfactor : Speech\n",
            "generating microfactor : Intent\n"
          ],
          "name": "stdout"
        },
        {
          "output_type": "execute_result",
          "data": {
            "text/html": [
              "<div>\n",
              "<style scoped>\n",
              "    .dataframe tbody tr th:only-of-type {\n",
              "        vertical-align: middle;\n",
              "    }\n",
              "\n",
              "    .dataframe tbody tr th {\n",
              "        vertical-align: top;\n",
              "    }\n",
              "\n",
              "    .dataframe thead th {\n",
              "        text-align: right;\n",
              "    }\n",
              "</style>\n",
              "<table border=\"1\" class=\"dataframe\">\n",
              "  <thead>\n",
              "    <tr style=\"text-align: right;\">\n",
              "      <th></th>\n",
              "      <th>Statement</th>\n",
              "      <th>Verdict</th>\n",
              "      <th>pred_verdict</th>\n",
              "    </tr>\n",
              "  </thead>\n",
              "  <tbody>\n",
              "    <tr>\n",
              "      <th>0</th>\n",
              "      <td>Central Health hospital district Texas spends ...</td>\n",
              "      <td>true</td>\n",
              "      <td>barely-true</td>\n",
              "    </tr>\n",
              "    <tr>\n",
              "      <th>1</th>\n",
              "      <td>US Government Accountability Office report say...</td>\n",
              "      <td>pants-fire</td>\n",
              "      <td>false</td>\n",
              "    </tr>\n",
              "    <tr>\n",
              "      <th>2</th>\n",
              "      <td>Studies shown absence federal reproductive hea...</td>\n",
              "      <td>half-true</td>\n",
              "      <td>false</td>\n",
              "    </tr>\n",
              "    <tr>\n",
              "      <th>3</th>\n",
              "      <td>Says bill HB 97 would prevent use taxpayer dol...</td>\n",
              "      <td>false</td>\n",
              "      <td>false</td>\n",
              "    </tr>\n",
              "    <tr>\n",
              "      <th>4</th>\n",
              "      <td>child born prematurely according president wor...</td>\n",
              "      <td>pants-fire</td>\n",
              "      <td>false</td>\n",
              "    </tr>\n",
              "    <tr>\n",
              "      <th>5</th>\n",
              "      <td>Says women need sonogram eighth 10th week preg...</td>\n",
              "      <td>mostly-true</td>\n",
              "      <td>false</td>\n",
              "    </tr>\n",
              "    <tr>\n",
              "      <th>6</th>\n",
              "      <td>proposed Georgia law women miscarry could beco...</td>\n",
              "      <td>mostly-true</td>\n",
              "      <td>half-true</td>\n",
              "    </tr>\n",
              "    <tr>\n",
              "      <th>7</th>\n",
              "      <td>miscarriage considered abortion</td>\n",
              "      <td>half-true</td>\n",
              "      <td>half-true</td>\n",
              "    </tr>\n",
              "    <tr>\n",
              "      <th>8</th>\n",
              "      <td>80000 abortions Texas every year</td>\n",
              "      <td>true</td>\n",
              "      <td>barely-true</td>\n",
              "    </tr>\n",
              "    <tr>\n",
              "      <th>9</th>\n",
              "      <td>Says Ohio right could 8½ months pregnant abort...</td>\n",
              "      <td>mostly-true</td>\n",
              "      <td>half-true</td>\n",
              "    </tr>\n",
              "    <tr>\n",
              "      <th>10</th>\n",
              "      <td>Says 50 million abortions since Roe v Wade dec...</td>\n",
              "      <td>true</td>\n",
              "      <td>false</td>\n",
              "    </tr>\n",
              "    <tr>\n",
              "      <th>11</th>\n",
              "      <td>Following 2009 session Texas House Speaker Joe...</td>\n",
              "      <td>true</td>\n",
              "      <td>half-true</td>\n",
              "    </tr>\n",
              "    <tr>\n",
              "      <th>12</th>\n",
              "      <td>Oregonians amazing nocost way fight abortion f...</td>\n",
              "      <td>true</td>\n",
              "      <td>false</td>\n",
              "    </tr>\n",
              "    <tr>\n",
              "      <th>13</th>\n",
              "      <td>Wisconsin 62 percent population black yet 24 p...</td>\n",
              "      <td>half-true</td>\n",
              "      <td>mostly-true</td>\n",
              "    </tr>\n",
              "    <tr>\n",
              "      <th>14</th>\n",
              "      <td>Says Scott Walker wants ban common forms birth...</td>\n",
              "      <td>half-true</td>\n",
              "      <td>false</td>\n",
              "    </tr>\n",
              "    <tr>\n",
              "      <th>15</th>\n",
              "      <td>Lizbeth Benacquistos supporters would make abo...</td>\n",
              "      <td>mostly-true</td>\n",
              "      <td>false</td>\n",
              "    </tr>\n",
              "    <tr>\n",
              "      <th>16</th>\n",
              "      <td>Congress Tom Barrett voted allow abortions nin...</td>\n",
              "      <td>barely-true</td>\n",
              "      <td>false</td>\n",
              "    </tr>\n",
              "    <tr>\n",
              "      <th>17</th>\n",
              "      <td>Says Scott Walker wants make abortion illegal ...</td>\n",
              "      <td>true</td>\n",
              "      <td>half-true</td>\n",
              "    </tr>\n",
              "    <tr>\n",
              "      <th>18</th>\n",
              "      <td>Says Annies List political group supports thir...</td>\n",
              "      <td>false</td>\n",
              "      <td>half-true</td>\n",
              "    </tr>\n",
              "    <tr>\n",
              "      <th>19</th>\n",
              "      <td>Ken Buck wants outlaw abortion even cases rape...</td>\n",
              "      <td>true</td>\n",
              "      <td>barely-true</td>\n",
              "    </tr>\n",
              "    <tr>\n",
              "      <th>20</th>\n",
              "      <td>John Kitzhaber prochoice candidate race governor</td>\n",
              "      <td>barely-true</td>\n",
              "      <td>false</td>\n",
              "    </tr>\n",
              "    <tr>\n",
              "      <th>21</th>\n",
              "      <td>Dan Webster would force victims rape incest be...</td>\n",
              "      <td>mostly-true</td>\n",
              "      <td>false</td>\n",
              "    </tr>\n",
              "    <tr>\n",
              "      <th>22</th>\n",
              "      <td>defense bill includes language would require m...</td>\n",
              "      <td>false</td>\n",
              "      <td>false</td>\n",
              "    </tr>\n",
              "    <tr>\n",
              "      <th>23</th>\n",
              "      <td>Republican candidate governor Nathan Deal expl...</td>\n",
              "      <td>false</td>\n",
              "      <td>false</td>\n",
              "    </tr>\n",
              "    <tr>\n",
              "      <th>24</th>\n",
              "      <td>Karen Handel would felt like OK go abort Sarah...</td>\n",
              "      <td>pants-fire</td>\n",
              "      <td>half-true</td>\n",
              "    </tr>\n",
              "    <tr>\n",
              "      <th>25</th>\n",
              "      <td>Department Health Human Services providing 160...</td>\n",
              "      <td>false</td>\n",
              "      <td>barely-true</td>\n",
              "    </tr>\n",
              "    <tr>\n",
              "      <th>26</th>\n",
              "      <td>Obama administration give Pennsylvania 160 mil...</td>\n",
              "      <td>false</td>\n",
              "      <td>half-true</td>\n",
              "    </tr>\n",
              "    <tr>\n",
              "      <th>27</th>\n",
              "      <td>Bill McCollum accepted thousands lobbyists Pla...</td>\n",
              "      <td>pants-fire</td>\n",
              "      <td>half-true</td>\n",
              "    </tr>\n",
              "    <tr>\n",
              "      <th>28</th>\n",
              "      <td>become nominee Democratic nominee prochoice ca...</td>\n",
              "      <td>mostly-true</td>\n",
              "      <td>false</td>\n",
              "    </tr>\n",
              "    <tr>\n",
              "      <th>29</th>\n",
              "      <td>Gov Crists veto also clears way taxpayer fundi...</td>\n",
              "      <td>false</td>\n",
              "      <td>false</td>\n",
              "    </tr>\n",
              "  </tbody>\n",
              "</table>\n",
              "</div>"
            ],
            "text/plain": [
              "                                            Statement      Verdict pred_verdict\n",
              "0   Central Health hospital district Texas spends ...         true  barely-true\n",
              "1   US Government Accountability Office report say...   pants-fire        false\n",
              "2   Studies shown absence federal reproductive hea...    half-true        false\n",
              "3   Says bill HB 97 would prevent use taxpayer dol...        false        false\n",
              "4   child born prematurely according president wor...   pants-fire        false\n",
              "5   Says women need sonogram eighth 10th week preg...  mostly-true        false\n",
              "6   proposed Georgia law women miscarry could beco...  mostly-true    half-true\n",
              "7                     miscarriage considered abortion    half-true    half-true\n",
              "8                    80000 abortions Texas every year         true  barely-true\n",
              "9   Says Ohio right could 8½ months pregnant abort...  mostly-true    half-true\n",
              "10  Says 50 million abortions since Roe v Wade dec...         true        false\n",
              "11  Following 2009 session Texas House Speaker Joe...         true    half-true\n",
              "12  Oregonians amazing nocost way fight abortion f...         true        false\n",
              "13  Wisconsin 62 percent population black yet 24 p...    half-true  mostly-true\n",
              "14  Says Scott Walker wants ban common forms birth...    half-true        false\n",
              "15  Lizbeth Benacquistos supporters would make abo...  mostly-true        false\n",
              "16  Congress Tom Barrett voted allow abortions nin...  barely-true        false\n",
              "17  Says Scott Walker wants make abortion illegal ...         true    half-true\n",
              "18  Says Annies List political group supports thir...        false    half-true\n",
              "19  Ken Buck wants outlaw abortion even cases rape...         true  barely-true\n",
              "20   John Kitzhaber prochoice candidate race governor  barely-true        false\n",
              "21  Dan Webster would force victims rape incest be...  mostly-true        false\n",
              "22  defense bill includes language would require m...        false        false\n",
              "23  Republican candidate governor Nathan Deal expl...        false        false\n",
              "24  Karen Handel would felt like OK go abort Sarah...   pants-fire    half-true\n",
              "25  Department Health Human Services providing 160...        false  barely-true\n",
              "26  Obama administration give Pennsylvania 160 mil...        false    half-true\n",
              "27  Bill McCollum accepted thousands lobbyists Pla...   pants-fire    half-true\n",
              "28  become nominee Democratic nominee prochoice ca...  mostly-true        false\n",
              "29  Gov Crists veto also clears way taxpayer fundi...        false        false"
            ]
          },
          "metadata": {
            "tags": []
          },
          "execution_count": 41
        }
      ]
    },
    {
      "cell_type": "code",
      "metadata": {
        "id": "MSsFJYp4jhbs",
        "outputId": "8dc779b6-00cd-4e2f-9e17-977aa3783162",
        "colab": {
          "base_uri": "https://localhost:8080/"
        }
      },
      "source": [
        "df['pred_verdict'].unique()"
      ],
      "execution_count": 42,
      "outputs": [
        {
          "output_type": "execute_result",
          "data": {
            "text/plain": [
              "array(['barely-true', 'false', 'half-true', 'mostly-true'], dtype=object)"
            ]
          },
          "metadata": {
            "tags": []
          },
          "execution_count": 42
        }
      ]
    },
    {
      "cell_type": "code",
      "metadata": {
        "id": "06XERzqKkEql"
      },
      "source": [
        "df['verdict_norm'] = df['Verdict'].apply(lambda x: 'True' if x in ['true', 'mostly-true'] else 'False')\n",
        "df['pred_verdict_norm'] = df['pred_verdict'].apply(lambda x: 'True' if x in ['true', 'mostly-true'] else 'False')"
      ],
      "execution_count": 43,
      "outputs": []
    },
    {
      "cell_type": "code",
      "metadata": {
        "colab": {
          "base_uri": "https://localhost:8080/",
          "height": 979
        },
        "id": "JM2RnRfunKyy",
        "outputId": "e376003f-69c8-4a5c-857d-810a11474785"
      },
      "source": [
        "df_intestest = df[['Statement', 'verdict_norm', 'pred_verdict_norm']]\n",
        "df_intestest"
      ],
      "execution_count": 44,
      "outputs": [
        {
          "output_type": "execute_result",
          "data": {
            "text/html": [
              "<div>\n",
              "<style scoped>\n",
              "    .dataframe tbody tr th:only-of-type {\n",
              "        vertical-align: middle;\n",
              "    }\n",
              "\n",
              "    .dataframe tbody tr th {\n",
              "        vertical-align: top;\n",
              "    }\n",
              "\n",
              "    .dataframe thead th {\n",
              "        text-align: right;\n",
              "    }\n",
              "</style>\n",
              "<table border=\"1\" class=\"dataframe\">\n",
              "  <thead>\n",
              "    <tr style=\"text-align: right;\">\n",
              "      <th></th>\n",
              "      <th>Statement</th>\n",
              "      <th>verdict_norm</th>\n",
              "      <th>pred_verdict_norm</th>\n",
              "    </tr>\n",
              "  </thead>\n",
              "  <tbody>\n",
              "    <tr>\n",
              "      <th>0</th>\n",
              "      <td>Central Health hospital district Texas spends ...</td>\n",
              "      <td>True</td>\n",
              "      <td>False</td>\n",
              "    </tr>\n",
              "    <tr>\n",
              "      <th>1</th>\n",
              "      <td>US Government Accountability Office report say...</td>\n",
              "      <td>False</td>\n",
              "      <td>False</td>\n",
              "    </tr>\n",
              "    <tr>\n",
              "      <th>2</th>\n",
              "      <td>Studies shown absence federal reproductive hea...</td>\n",
              "      <td>False</td>\n",
              "      <td>False</td>\n",
              "    </tr>\n",
              "    <tr>\n",
              "      <th>3</th>\n",
              "      <td>Says bill HB 97 would prevent use taxpayer dol...</td>\n",
              "      <td>False</td>\n",
              "      <td>False</td>\n",
              "    </tr>\n",
              "    <tr>\n",
              "      <th>4</th>\n",
              "      <td>child born prematurely according president wor...</td>\n",
              "      <td>False</td>\n",
              "      <td>False</td>\n",
              "    </tr>\n",
              "    <tr>\n",
              "      <th>5</th>\n",
              "      <td>Says women need sonogram eighth 10th week preg...</td>\n",
              "      <td>True</td>\n",
              "      <td>False</td>\n",
              "    </tr>\n",
              "    <tr>\n",
              "      <th>6</th>\n",
              "      <td>proposed Georgia law women miscarry could beco...</td>\n",
              "      <td>True</td>\n",
              "      <td>False</td>\n",
              "    </tr>\n",
              "    <tr>\n",
              "      <th>7</th>\n",
              "      <td>miscarriage considered abortion</td>\n",
              "      <td>False</td>\n",
              "      <td>False</td>\n",
              "    </tr>\n",
              "    <tr>\n",
              "      <th>8</th>\n",
              "      <td>80000 abortions Texas every year</td>\n",
              "      <td>True</td>\n",
              "      <td>False</td>\n",
              "    </tr>\n",
              "    <tr>\n",
              "      <th>9</th>\n",
              "      <td>Says Ohio right could 8½ months pregnant abort...</td>\n",
              "      <td>True</td>\n",
              "      <td>False</td>\n",
              "    </tr>\n",
              "    <tr>\n",
              "      <th>10</th>\n",
              "      <td>Says 50 million abortions since Roe v Wade dec...</td>\n",
              "      <td>True</td>\n",
              "      <td>False</td>\n",
              "    </tr>\n",
              "    <tr>\n",
              "      <th>11</th>\n",
              "      <td>Following 2009 session Texas House Speaker Joe...</td>\n",
              "      <td>True</td>\n",
              "      <td>False</td>\n",
              "    </tr>\n",
              "    <tr>\n",
              "      <th>12</th>\n",
              "      <td>Oregonians amazing nocost way fight abortion f...</td>\n",
              "      <td>True</td>\n",
              "      <td>False</td>\n",
              "    </tr>\n",
              "    <tr>\n",
              "      <th>13</th>\n",
              "      <td>Wisconsin 62 percent population black yet 24 p...</td>\n",
              "      <td>False</td>\n",
              "      <td>True</td>\n",
              "    </tr>\n",
              "    <tr>\n",
              "      <th>14</th>\n",
              "      <td>Says Scott Walker wants ban common forms birth...</td>\n",
              "      <td>False</td>\n",
              "      <td>False</td>\n",
              "    </tr>\n",
              "    <tr>\n",
              "      <th>15</th>\n",
              "      <td>Lizbeth Benacquistos supporters would make abo...</td>\n",
              "      <td>True</td>\n",
              "      <td>False</td>\n",
              "    </tr>\n",
              "    <tr>\n",
              "      <th>16</th>\n",
              "      <td>Congress Tom Barrett voted allow abortions nin...</td>\n",
              "      <td>False</td>\n",
              "      <td>False</td>\n",
              "    </tr>\n",
              "    <tr>\n",
              "      <th>17</th>\n",
              "      <td>Says Scott Walker wants make abortion illegal ...</td>\n",
              "      <td>True</td>\n",
              "      <td>False</td>\n",
              "    </tr>\n",
              "    <tr>\n",
              "      <th>18</th>\n",
              "      <td>Says Annies List political group supports thir...</td>\n",
              "      <td>False</td>\n",
              "      <td>False</td>\n",
              "    </tr>\n",
              "    <tr>\n",
              "      <th>19</th>\n",
              "      <td>Ken Buck wants outlaw abortion even cases rape...</td>\n",
              "      <td>True</td>\n",
              "      <td>False</td>\n",
              "    </tr>\n",
              "    <tr>\n",
              "      <th>20</th>\n",
              "      <td>John Kitzhaber prochoice candidate race governor</td>\n",
              "      <td>False</td>\n",
              "      <td>False</td>\n",
              "    </tr>\n",
              "    <tr>\n",
              "      <th>21</th>\n",
              "      <td>Dan Webster would force victims rape incest be...</td>\n",
              "      <td>True</td>\n",
              "      <td>False</td>\n",
              "    </tr>\n",
              "    <tr>\n",
              "      <th>22</th>\n",
              "      <td>defense bill includes language would require m...</td>\n",
              "      <td>False</td>\n",
              "      <td>False</td>\n",
              "    </tr>\n",
              "    <tr>\n",
              "      <th>23</th>\n",
              "      <td>Republican candidate governor Nathan Deal expl...</td>\n",
              "      <td>False</td>\n",
              "      <td>False</td>\n",
              "    </tr>\n",
              "    <tr>\n",
              "      <th>24</th>\n",
              "      <td>Karen Handel would felt like OK go abort Sarah...</td>\n",
              "      <td>False</td>\n",
              "      <td>False</td>\n",
              "    </tr>\n",
              "    <tr>\n",
              "      <th>25</th>\n",
              "      <td>Department Health Human Services providing 160...</td>\n",
              "      <td>False</td>\n",
              "      <td>False</td>\n",
              "    </tr>\n",
              "    <tr>\n",
              "      <th>26</th>\n",
              "      <td>Obama administration give Pennsylvania 160 mil...</td>\n",
              "      <td>False</td>\n",
              "      <td>False</td>\n",
              "    </tr>\n",
              "    <tr>\n",
              "      <th>27</th>\n",
              "      <td>Bill McCollum accepted thousands lobbyists Pla...</td>\n",
              "      <td>False</td>\n",
              "      <td>False</td>\n",
              "    </tr>\n",
              "    <tr>\n",
              "      <th>28</th>\n",
              "      <td>become nominee Democratic nominee prochoice ca...</td>\n",
              "      <td>True</td>\n",
              "      <td>False</td>\n",
              "    </tr>\n",
              "    <tr>\n",
              "      <th>29</th>\n",
              "      <td>Gov Crists veto also clears way taxpayer fundi...</td>\n",
              "      <td>False</td>\n",
              "      <td>False</td>\n",
              "    </tr>\n",
              "  </tbody>\n",
              "</table>\n",
              "</div>"
            ],
            "text/plain": [
              "                                            Statement  ... pred_verdict_norm\n",
              "0   Central Health hospital district Texas spends ...  ...             False\n",
              "1   US Government Accountability Office report say...  ...             False\n",
              "2   Studies shown absence federal reproductive hea...  ...             False\n",
              "3   Says bill HB 97 would prevent use taxpayer dol...  ...             False\n",
              "4   child born prematurely according president wor...  ...             False\n",
              "5   Says women need sonogram eighth 10th week preg...  ...             False\n",
              "6   proposed Georgia law women miscarry could beco...  ...             False\n",
              "7                     miscarriage considered abortion  ...             False\n",
              "8                    80000 abortions Texas every year  ...             False\n",
              "9   Says Ohio right could 8½ months pregnant abort...  ...             False\n",
              "10  Says 50 million abortions since Roe v Wade dec...  ...             False\n",
              "11  Following 2009 session Texas House Speaker Joe...  ...             False\n",
              "12  Oregonians amazing nocost way fight abortion f...  ...             False\n",
              "13  Wisconsin 62 percent population black yet 24 p...  ...              True\n",
              "14  Says Scott Walker wants ban common forms birth...  ...             False\n",
              "15  Lizbeth Benacquistos supporters would make abo...  ...             False\n",
              "16  Congress Tom Barrett voted allow abortions nin...  ...             False\n",
              "17  Says Scott Walker wants make abortion illegal ...  ...             False\n",
              "18  Says Annies List political group supports thir...  ...             False\n",
              "19  Ken Buck wants outlaw abortion even cases rape...  ...             False\n",
              "20   John Kitzhaber prochoice candidate race governor  ...             False\n",
              "21  Dan Webster would force victims rape incest be...  ...             False\n",
              "22  defense bill includes language would require m...  ...             False\n",
              "23  Republican candidate governor Nathan Deal expl...  ...             False\n",
              "24  Karen Handel would felt like OK go abort Sarah...  ...             False\n",
              "25  Department Health Human Services providing 160...  ...             False\n",
              "26  Obama administration give Pennsylvania 160 mil...  ...             False\n",
              "27  Bill McCollum accepted thousands lobbyists Pla...  ...             False\n",
              "28  become nominee Democratic nominee prochoice ca...  ...             False\n",
              "29  Gov Crists veto also clears way taxpayer fundi...  ...             False\n",
              "\n",
              "[30 rows x 3 columns]"
            ]
          },
          "metadata": {
            "tags": []
          },
          "execution_count": 44
        }
      ]
    },
    {
      "cell_type": "markdown",
      "metadata": {
        "id": "fctpbSZqn6PJ"
      },
      "source": [
        "**Pickle the models**"
      ]
    },
    {
      "cell_type": "code",
      "metadata": {
        "id": "-1HaiWG4N79K",
        "colab": {
          "base_uri": "https://localhost:8080/"
        },
        "outputId": "e3a9977e-a00c-4591-d9a5-6a4a52dbeade"
      },
      "source": [
        "from google.colab import drive\n",
        "drive.mount('/content/drive')\n",
        "! cp /content/*.pkl /content/drive/MyDrive/pickles_nlp/"
      ],
      "execution_count": 45,
      "outputs": [
        {
          "output_type": "stream",
          "text": [
            "Drive already mounted at /content/drive; to attempt to forcibly remount, call drive.mount(\"/content/drive\", force_remount=True).\n"
          ],
          "name": "stdout"
        }
      ]
    }
  ]
}