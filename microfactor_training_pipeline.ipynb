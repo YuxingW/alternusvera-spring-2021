{
  "nbformat": 4,
  "nbformat_minor": 0,
  "metadata": {
    "colab": {
      "name": "microfactor_training_pipeline.ipynb",
      "provenance": [],
      "collapsed_sections": [],
      "toc_visible": true,
      "include_colab_link": true
    },
    "kernelspec": {
      "name": "python3",
      "display_name": "Python 3"
    }
  },
  "cells": [
    {
      "cell_type": "markdown",
      "metadata": {
        "id": "view-in-github",
        "colab_type": "text"
      },
      "source": [
        "<a href=\"https://colab.research.google.com/github/YuxingW/alternusvera-spring-2021/blob/main/microfactor_training_pipeline.ipynb\" target=\"_parent\"><img src=\"https://colab.research.google.com/assets/colab-badge.svg\" alt=\"Open In Colab\"/></a>"
      ]
    },
    {
      "cell_type": "markdown",
      "metadata": {
        "id": "WF4Qh5xVqM4D"
      },
      "source": [
        "## CMPE 257 - MLSprings 2021 Cohort\n",
        "Objective: Detect fake news in political datasets using factors\n",
        "mircro factors <br />\n",
        "Team DataCorps - Yuxing Wang, Arun Talkad, Mayuri Lalwani\n",
        "\n",
        "## True-o-meter Pipeline\n",
        "\n",
        "Micorfactors for Factor - Sychology Utilities, Yuxing\n",
        "* Sentiment\n",
        "* Group confirmation\n",
        "* Opinion leader\n",
        "\n",
        "Micorfactors for Factor - Intent, Mayuri\n",
        "* Utterance\n",
        "* Speech\n",
        "* Sentiment\n",
        "\n",
        "Micorfactors for Factor -Incredibility, Arun\n",
        "* Incredibility\n",
        "\n",
        "Reference: \n",
        "* https://towardsai.net/p/nlp/sentiment-analysis-opinion-mining-with-python-nlp-tutorial-d1f173ca4e3c\n",
        "* https://github.com/towardsai/tutorials/tree/master/sentiment_analysis_tutorial\n",
        "* https://machinelearningmastery.com/stacking-ensemble-machine-learning-with-python/\n"
      ]
    },
    {
      "cell_type": "markdown",
      "metadata": {
        "id": "7PnmDlwC8eFK"
      },
      "source": [
        "## 1.Data Preparation\n",
        "* Scrape data from politifact\n",
        "* Fetch twitter tweets by APIs"
      ]
    },
    {
      "cell_type": "markdown",
      "metadata": {
        "id": "cCdKoergjmDw"
      },
      "source": [
        "###1.1.Scrape data from politifact"
      ]
    },
    {
      "cell_type": "code",
      "metadata": {
        "id": "VLl8z7VEjpMw"
      },
      "source": [
        "!pip install -q beautifulsoup4\n",
        "!pip install -q vaderSentiment"
      ],
      "execution_count": null,
      "outputs": []
    },
    {
      "cell_type": "markdown",
      "metadata": {
        "id": "-hBtFjjoqV2_"
      },
      "source": [
        "**Import Required Packages**"
      ]
    },
    {
      "cell_type": "code",
      "metadata": {
        "colab": {
          "base_uri": "https://localhost:8080/"
        },
        "id": "-sSRIdY1HZCS",
        "outputId": "b04792b3-0964-4a5d-d24c-596b175bbab5"
      },
      "source": [
        "import pandas as pd\n",
        "import numpy as np\n",
        "import seaborn as sns\n",
        "from bs4 import BeautifulSoup\n",
        "import re\n",
        "import requests\n",
        "import string\n",
        "from string import punctuation\n",
        "from sklearn.preprocessing import StandardScaler\n",
        "from io import BytesIO\n",
        "import nltk\n",
        "from nltk.corpus import stopwords\n",
        "nltk.download('stopwords')\n",
        "\n",
        "\n",
        "import matplotlib.pyplot as plt\n",
        "from sklearn.model_selection import train_test_split\n",
        "from sklearn.feature_extraction.text import CountVectorizer\n",
        "from sklearn.feature_extraction.text import TfidfTransformer\n",
        "\n",
        "import tensorflow as tf\n",
        "from tensorflow.keras.models import Sequential\n",
        "from tensorflow.keras.layers import Dense, Activation, Dropout\n",
        "from tensorflow.keras.callbacks import EarlyStopping\n",
        "from vaderSentiment.vaderSentiment import SentimentIntensityAnalyzer"
      ],
      "execution_count": null,
      "outputs": [
        {
          "output_type": "stream",
          "text": [
            "[nltk_data] Downloading package stopwords to /root/nltk_data...\n",
            "[nltk_data]   Package stopwords is already up-to-date!\n"
          ],
          "name": "stdout"
        }
      ]
    },
    {
      "cell_type": "code",
      "metadata": {
        "id": "VIodWee7Erz8",
        "colab": {
          "base_uri": "https://localhost:8080/",
          "height": 293
        },
        "outputId": "0cd3cdf2-5559-43c2-aa07-28d9241f12b9"
      },
      "source": [
        "def scrape_data_from_politifact(start=1, end=10):\n",
        "  url = \"https://www.politifact.com/issues/\"\n",
        "  issues = []\n",
        "  r = requests.get(url)\n",
        "  soup = BeautifulSoup(r.text,'html.parser')\n",
        "  results = soup.find_all('div', attrs={'class':'c-chyron__value'})\n",
        "  for result in results:\n",
        "    name = result.find('a').text\n",
        "    issue = result.find('a')['href'].replace(\"/\",\"\")\n",
        "    issues.append((name, issue))\n",
        "  url = \"https://www.politifact.com/factchecks/list/?page={pgno}&category={category}\"\n",
        "\n",
        "  records = []  \n",
        "\n",
        "  for i in range(start,end):\n",
        "    for issue, issue_url in issues[0:5]:\n",
        "      fUrl = url.format(pgno=str(i), category=issue_url)\n",
        "      r = requests.get(fUrl)\n",
        "      soup = BeautifulSoup(r.text, 'html.parser')  \n",
        "      results = soup.find_all('article', attrs={'class':'m-statement'})\n",
        "      for result in results:\n",
        "        date = result.find('footer',attrs={'class':'m-statement__footer'}).text.split(\"•\")[1].rstrip(\"\\n\")\n",
        "        reporter = result.find('footer',attrs={'class':'m-statement__footer'}).text.split(\"•\")[0].replace(\"\\nBy\",\"\")   \n",
        "        author = result.find('a',attrs={'class':'m-statement__name'}).text.replace(\"\\n\",\"\")\n",
        "        statement =  result.find('div', attrs = {'class':'m-statement__quote'}).find('a').text.replace(\"\\n\",\"\")\n",
        "        statement_descr = result.find('div', {'class':'m-statement__desc'}).text.replace(\"\\n\",\"\")\n",
        "        article_url =  result.find('a')['href']\n",
        "        verdict = result.find('img', attrs = {'class':'c-image__thumb'}, alt=True).attrs['alt']\n",
        "        records.append(( date, issue, reporter, author, statement, statement_descr, verdict, article_url))\n",
        "  return records\n",
        "\n",
        "records = scrape_data_from_politifact()\n",
        "df_politifact = pd.DataFrame(records,\n",
        "                         columns=['Date', 'Issue','Reporter','Author', 'Statement', 'Description', 'Verdict', 'Url'])  \n",
        "df_politifact.head()"
      ],
      "execution_count": null,
      "outputs": [
        {
          "output_type": "execute_result",
          "data": {
            "text/html": [
              "<div>\n",
              "<style scoped>\n",
              "    .dataframe tbody tr th:only-of-type {\n",
              "        vertical-align: middle;\n",
              "    }\n",
              "\n",
              "    .dataframe tbody tr th {\n",
              "        vertical-align: top;\n",
              "    }\n",
              "\n",
              "    .dataframe thead th {\n",
              "        text-align: right;\n",
              "    }\n",
              "</style>\n",
              "<table border=\"1\" class=\"dataframe\">\n",
              "  <thead>\n",
              "    <tr style=\"text-align: right;\">\n",
              "      <th></th>\n",
              "      <th>Date</th>\n",
              "      <th>Issue</th>\n",
              "      <th>Reporter</th>\n",
              "      <th>Author</th>\n",
              "      <th>Statement</th>\n",
              "      <th>Description</th>\n",
              "      <th>Verdict</th>\n",
              "      <th>Url</th>\n",
              "    </tr>\n",
              "  </thead>\n",
              "  <tbody>\n",
              "    <tr>\n",
              "      <th>0</th>\n",
              "      <td>May 7, 2021</td>\n",
              "      <td>Abortion</td>\n",
              "      <td>Bill McCarthy</td>\n",
              "      <td>Facebook posts</td>\n",
              "      <td>Says Chelsea Clinton tweeted, \"If Jesus were a...</td>\n",
              "      <td>stated on May 7, 2021 in a Facebook post:</td>\n",
              "      <td>pants-fire</td>\n",
              "      <td>/personalities/facebook-posts/</td>\n",
              "    </tr>\n",
              "    <tr>\n",
              "      <th>1</th>\n",
              "      <td>March 31, 2021</td>\n",
              "      <td>Abortion</td>\n",
              "      <td>Tom Kertscher</td>\n",
              "      <td>Facebook posts</td>\n",
              "      <td>“Joe Biden puts pro-life groups on domestic ex...</td>\n",
              "      <td>stated on March 29, 2021 in a Facebook post:</td>\n",
              "      <td>barely-true</td>\n",
              "      <td>/personalities/facebook-posts/</td>\n",
              "    </tr>\n",
              "    <tr>\n",
              "      <th>2</th>\n",
              "      <td>February 12, 2021</td>\n",
              "      <td>Abortion</td>\n",
              "      <td>Brandon Mulder</td>\n",
              "      <td>Greg Abbott</td>\n",
              "      <td>“Innocent lives will be saved” by ending taxpa...</td>\n",
              "      <td>stated on January 24, 2021 in a tweet:</td>\n",
              "      <td>false</td>\n",
              "      <td>/personalities/greg-abbott/</td>\n",
              "    </tr>\n",
              "    <tr>\n",
              "      <th>3</th>\n",
              "      <td>November 18, 2020</td>\n",
              "      <td>Abortion</td>\n",
              "      <td>Noah Y. Kim</td>\n",
              "      <td>Facebook posts</td>\n",
              "      <td>There is “aborted male fetus” in the Oxford-As...</td>\n",
              "      <td>stated on November 15, 2020 in a Facebook post:</td>\n",
              "      <td>false</td>\n",
              "      <td>/personalities/facebook-posts/</td>\n",
              "    </tr>\n",
              "    <tr>\n",
              "      <th>4</th>\n",
              "      <td>October 14, 2020</td>\n",
              "      <td>Abortion</td>\n",
              "      <td>Tom Kertscher</td>\n",
              "      <td>Tommy Tuberville</td>\n",
              "      <td>Says Doug Jones \"has voted to spend our tax do...</td>\n",
              "      <td>stated on October 8, 2020 in an ad:</td>\n",
              "      <td>false</td>\n",
              "      <td>/personalities/tommy-tuberville/</td>\n",
              "    </tr>\n",
              "  </tbody>\n",
              "</table>\n",
              "</div>"
            ],
            "text/plain": [
              "                 Date     Issue  ...      Verdict                               Url\n",
              "0         May 7, 2021  Abortion  ...   pants-fire    /personalities/facebook-posts/\n",
              "1      March 31, 2021  Abortion  ...  barely-true    /personalities/facebook-posts/\n",
              "2   February 12, 2021  Abortion  ...        false       /personalities/greg-abbott/\n",
              "3   November 18, 2020  Abortion  ...        false    /personalities/facebook-posts/\n",
              "4    October 14, 2020  Abortion  ...        false  /personalities/tommy-tuberville/\n",
              "\n",
              "[5 rows x 8 columns]"
            ]
          },
          "metadata": {
            "tags": []
          },
          "execution_count": 9
        }
      ]
    },
    {
      "cell_type": "markdown",
      "metadata": {
        "id": "YUH7jv5KrgG-"
      },
      "source": [
        "###1.2.Scrape data from twitter"
      ]
    },
    {
      "cell_type": "code",
      "metadata": {
        "id": "Q4IUPTjmmcy4"
      },
      "source": [
        "!pip install -q datasketch\n",
        "!pip install -q networkx "
      ],
      "execution_count": null,
      "outputs": []
    },
    {
      "cell_type": "code",
      "metadata": {
        "id": "huNUYbGMmKHm"
      },
      "source": [
        "import tweepy\n",
        "from tweepy import OAuthHandler\n",
        "import pandas as pd\n",
        "import numpy as np\n",
        "import re\n",
        "import time\n",
        "from datasketch import MinHash, MinHashLSH"
      ],
      "execution_count": null,
      "outputs": []
    },
    {
      "cell_type": "code",
      "metadata": {
        "colab": {
          "base_uri": "https://localhost:8080/",
          "height": 206
        },
        "id": "o53hhvmfmKmZ",
        "outputId": "d9f3f0fa-3219-48a0-9601-ecefef5a3d2d"
      },
      "source": [
        "def scrape_data_from_twitter():\n",
        "  # access_token = '1311987544507084800-iYuPqERzopIZuuyxaZ8xnqARcyKrR1'\n",
        "  # access_token_secret = 'DCJg5kE7srBZRToNlzF0xqT3hcxonnXMlMXKWjX91wyTe'\n",
        "  # consumer_key = 'YQLJJb0ELY5pdXbx7WkQXtRXo'\n",
        "  # consumer_secret = 'HCgQga7Mj33C5E19IP7Dr3qGChmc85M6IEYXSGtI6g4cdplBYw'\n",
        "\n",
        "  consumer_key = \"rXTydsEkrpR8QbwJZnAFYPp1q\"\n",
        "  consumer_secret = \"tuvujeytcDws2H1rkinWALUwO75Dk9e7iB9n57FK31HKejEMwl\"\n",
        "  access_token = \"1309507240500457472-sfNmQpz6JriI3L1kE0uRoDgN0W7Z1l\"\n",
        "  access_token_secret = \"IyDV3VvEE1xcTtYPYlAB1BRIB3J0dCjscy6LZigjH8rzn\"\n",
        "\n",
        "\n",
        "  auth = tweepy.OAuthHandler(consumer_key, consumer_secret)\n",
        "  auth.set_access_token(access_token, access_token_secret)\n",
        "\n",
        "  api = tweepy.API(auth, wait_on_rate_limit=True, wait_on_rate_limit_notify=True)\n",
        "\n",
        "  tweets = []\n",
        "\n",
        "  count = 1\n",
        "\n",
        "  \"\"\"if you don't add since= as one of the parameters, Twitter will sample the last 7 days worth of data depending\n",
        "  on how many total tweets there are with the specific hashtag, keyword, or key phrase that you are looking for. You can\n",
        "  manually add in the number of items (or tweets) you want to get back in the items() section.\"\"\"\n",
        "\n",
        "  for tweet in tweepy.Cursor(api.search, q=\"#breaking\", count=450, since='2020-04-10', lang='en').items(5000):\n",
        "    count += 1\n",
        "    try:\n",
        "      data = [tweet.text, tweet.retweet_count, tweet.user.followers_count]\n",
        "      data = tuple(data)\n",
        "      tweets.append(data)\n",
        "    \n",
        "    except tweepy.TweepError as e:\n",
        "      print(e.reason)\n",
        "      continue\n",
        "\n",
        "    except StopIteration:\n",
        "      break\n",
        "  return tweets\n",
        "\n",
        "tweets = scrape_data_from_twitter()\n",
        "df_tweet = pd.DataFrame(tweets, columns = ['Statement', 'NumOfRetweets', 'UserNumOfFollowers'])\n",
        "df_tweet = df_tweet[:1000]\n",
        "df_tweet.head()"
      ],
      "execution_count": null,
      "outputs": [
        {
          "output_type": "execute_result",
          "data": {
            "text/html": [
              "<div>\n",
              "<style scoped>\n",
              "    .dataframe tbody tr th:only-of-type {\n",
              "        vertical-align: middle;\n",
              "    }\n",
              "\n",
              "    .dataframe tbody tr th {\n",
              "        vertical-align: top;\n",
              "    }\n",
              "\n",
              "    .dataframe thead th {\n",
              "        text-align: right;\n",
              "    }\n",
              "</style>\n",
              "<table border=\"1\" class=\"dataframe\">\n",
              "  <thead>\n",
              "    <tr style=\"text-align: right;\">\n",
              "      <th></th>\n",
              "      <th>Statement</th>\n",
              "      <th>NumOfRetweets</th>\n",
              "      <th>UserNumOfFollowers</th>\n",
              "    </tr>\n",
              "  </thead>\n",
              "  <tbody>\n",
              "    <tr>\n",
              "      <th>0</th>\n",
              "      <td>RT @UrgentAlertNews: #BREAKING: 25+ rockets fi...</td>\n",
              "      <td>7</td>\n",
              "      <td>219</td>\n",
              "    </tr>\n",
              "    <tr>\n",
              "      <th>1</th>\n",
              "      <td>RT @MeghUpdates: #BREAKING: Bombay High Court ...</td>\n",
              "      <td>1854</td>\n",
              "      <td>7595</td>\n",
              "    </tr>\n",
              "    <tr>\n",
              "      <th>2</th>\n",
              "      <td>RT @MuhammadSmiry: #Breaking: Israeli warplane...</td>\n",
              "      <td>1725</td>\n",
              "      <td>103</td>\n",
              "    </tr>\n",
              "    <tr>\n",
              "      <th>3</th>\n",
              "      <td>RT @ELINTNews: #BREAKING: 3 killed in airstrik...</td>\n",
              "      <td>3</td>\n",
              "      <td>1285</td>\n",
              "    </tr>\n",
              "    <tr>\n",
              "      <th>4</th>\n",
              "      <td>RT @MeghUpdates: #BREAKING : The Israeli secur...</td>\n",
              "      <td>1201</td>\n",
              "      <td>1816</td>\n",
              "    </tr>\n",
              "  </tbody>\n",
              "</table>\n",
              "</div>"
            ],
            "text/plain": [
              "                                           Statement  ...  UserNumOfFollowers\n",
              "0  RT @UrgentAlertNews: #BREAKING: 25+ rockets fi...  ...                 219\n",
              "1  RT @MeghUpdates: #BREAKING: Bombay High Court ...  ...                7595\n",
              "2  RT @MuhammadSmiry: #Breaking: Israeli warplane...  ...                 103\n",
              "3  RT @ELINTNews: #BREAKING: 3 killed in airstrik...  ...                1285\n",
              "4  RT @MeghUpdates: #BREAKING : The Israeli secur...  ...                1816\n",
              "\n",
              "[5 rows x 3 columns]"
            ]
          },
          "metadata": {
            "tags": []
          },
          "execution_count": 12
        }
      ]
    },
    {
      "cell_type": "markdown",
      "metadata": {
        "id": "bb3Z7vsICzqB"
      },
      "source": [
        "###1.3.Scrapte data from newsapi"
      ]
    },
    {
      "cell_type": "code",
      "metadata": {
        "id": "JAhvPEQ_C44Q",
        "colab": {
          "base_uri": "https://localhost:8080/",
          "height": 206
        },
        "outputId": "a4ad27ea-6b0b-4975-b73d-6446e1dd75e5"
      },
      "source": [
        " def scrape_data_from_newsapi():\n",
        "   # BBC news api\n",
        "   my_url = \"https://newsapi.org/v2/top-headlines?country=us&category=general&apiKey=4aa01326eb3147a881ad8f93863c9663\"\n",
        "   my_open_bbc_page = requests.get(my_url).json()\n",
        "   my_article = my_open_bbc_page[\"articles\"]\n",
        "   my_results = []\n",
        "   for ar in my_article:\n",
        "      my_results.append(ar[\"title\"])\n",
        "\n",
        "   return my_results\n",
        "\n",
        "news = scrape_data_from_newsapi()\n",
        "df_news = pd.DataFrame(news, columns = ['Statement'])\n",
        "df_news.head()"
      ],
      "execution_count": null,
      "outputs": [
        {
          "output_type": "execute_result",
          "data": {
            "text/html": [
              "<div>\n",
              "<style scoped>\n",
              "    .dataframe tbody tr th:only-of-type {\n",
              "        vertical-align: middle;\n",
              "    }\n",
              "\n",
              "    .dataframe tbody tr th {\n",
              "        vertical-align: top;\n",
              "    }\n",
              "\n",
              "    .dataframe thead th {\n",
              "        text-align: right;\n",
              "    }\n",
              "</style>\n",
              "<table border=\"1\" class=\"dataframe\">\n",
              "  <thead>\n",
              "    <tr style=\"text-align: right;\">\n",
              "      <th></th>\n",
              "      <th>Statement</th>\n",
              "    </tr>\n",
              "  </thead>\n",
              "  <tbody>\n",
              "    <tr>\n",
              "      <th>0</th>\n",
              "      <td>China’s census shows population growth slowed ...</td>\n",
              "    </tr>\n",
              "    <tr>\n",
              "      <th>1</th>\n",
              "      <td>Youngkin wins Virginia GOP nomination for gove...</td>\n",
              "    </tr>\n",
              "    <tr>\n",
              "      <th>2</th>\n",
              "      <td>Russell Westbrook Breaks Oscar Robertson's Rec...</td>\n",
              "    </tr>\n",
              "    <tr>\n",
              "      <th>3</th>\n",
              "      <td>India's Covid-19 catastrophe could make global...</td>\n",
              "    </tr>\n",
              "    <tr>\n",
              "      <th>4</th>\n",
              "      <td>Dogecoin drops in price during Elon Musk's SNL...</td>\n",
              "    </tr>\n",
              "  </tbody>\n",
              "</table>\n",
              "</div>"
            ],
            "text/plain": [
              "                                           Statement\n",
              "0  China’s census shows population growth slowed ...\n",
              "1  Youngkin wins Virginia GOP nomination for gove...\n",
              "2  Russell Westbrook Breaks Oscar Robertson's Rec...\n",
              "3  India's Covid-19 catastrophe could make global...\n",
              "4  Dogecoin drops in price during Elon Musk's SNL..."
            ]
          },
          "metadata": {
            "tags": []
          },
          "execution_count": 13
        }
      ]
    },
    {
      "cell_type": "markdown",
      "metadata": {
        "id": "B3so3XNt5PXg"
      },
      "source": [
        "**Text Preprocessing**"
      ]
    },
    {
      "cell_type": "code",
      "metadata": {
        "id": "dw71eNinwMKk"
      },
      "source": [
        "df = df_tweet.copy()"
      ],
      "execution_count": null,
      "outputs": []
    },
    {
      "cell_type": "code",
      "metadata": {
        "id": "mvi7pt-d5R6E"
      },
      "source": [
        "stopwords = stopwords.words('english')\n",
        "stopwords.append(['breaking', 'BREAKING'])\n",
        "\n",
        "def get_text_processing(text):\n",
        "    no_punctuation = [char for char in text if char not in string.punctuation]\n",
        "    no_punctuation = ''.join(no_punctuation)\n",
        "    return ' '.join([word for word in no_punctuation.split() if word.lower() not in stopwords])"
      ],
      "execution_count": null,
      "outputs": []
    },
    {
      "cell_type": "code",
      "metadata": {
        "id": "52_Rbc3p5953"
      },
      "source": [
        "df['Statement'] = df['Statement'].apply(get_text_processing)"
      ],
      "execution_count": null,
      "outputs": []
    },
    {
      "cell_type": "markdown",
      "metadata": {
        "id": "55CcQYeeMt7m"
      },
      "source": [
        "##2.Individual Work"
      ]
    },
    {
      "cell_type": "markdown",
      "metadata": {
        "id": "l2ppN_Gj3MXZ"
      },
      "source": [
        "### 2.1.Microfactors generation (Yuxing)"
      ]
    },
    {
      "cell_type": "markdown",
      "metadata": {
        "id": "rkFWFspPVze9"
      },
      "source": [
        "**Generate Microfactors for Factor PsychologyUtilites**"
      ]
    },
    {
      "cell_type": "markdown",
      "metadata": {
        "id": "UxDEvJZuv7yu"
      },
      "source": [
        "**1. Group Confirmation**"
      ]
    },
    {
      "cell_type": "markdown",
      "metadata": {
        "id": "xaSuc38YFWNu"
      },
      "source": [
        "The more retweets, the more social confirmation. We split the number of retwees to 'Confirmation' as 'positive' and 'negative', 300 is the threshold we can use for a 'strong' confirmation or not."
      ]
    },
    {
      "cell_type": "code",
      "metadata": {
        "id": "QvsEfv5U8hNJ",
        "colab": {
          "base_uri": "https://localhost:8080/",
          "height": 284
        },
        "outputId": "9f12aa50-d9ed-4ce0-96fb-6e37a2261e61"
      },
      "source": [
        "pd.options.mode.chained_assignment = None\n",
        "\n",
        "ulimit = np.percentile(df.NumOfRetweets, 99)\n",
        "df['NumOfRetweets'].loc[df['NumOfRetweets']>ulimit] = ulimit\n",
        "llimit = np.percentile(df.NumOfRetweets.values, 1)\n",
        "df['NumOfRetweets'].loc[df['NumOfRetweets']<llimit] = llimit\n",
        "df['NumOfRetweets'].plot.hist(color='#86bf91')"
      ],
      "execution_count": null,
      "outputs": [
        {
          "output_type": "execute_result",
          "data": {
            "text/plain": [
              "<matplotlib.axes._subplots.AxesSubplot at 0x7fafff5005d0>"
            ]
          },
          "metadata": {
            "tags": []
          },
          "execution_count": 17
        },
        {
          "output_type": "display_data",
          "data": {
            "image/png": "[encoded data removed]",
            "text/plain": [
              "<Figure size 432x288 with 1 Axes>"
            ]
          },
          "metadata": {
            "tags": [],
            "needs_background": "light"
          }
        }
      ]
    },
    {
      "cell_type": "code",
      "metadata": {
        "id": "3i_NvNOaxDcO"
      },
      "source": [
        "def gen_microfactor_confirmation(df):\n",
        "  df['ScaleConfirmation'] = df['NumOfRetweets']/df['NumOfRetweets'].mean()\n",
        "  df['ScaleConfirmation'] = df['ScaleConfirmation'].apply(lambda x: 1 if x > 1 else x)\n",
        "  df['Confirmation'] = df['ScaleConfirmation'].apply(lambda x: 'Positive' if x > 0.2 else 'Negative')\n",
        "\n",
        "gen_microfactor_confirmation(df)"
      ],
      "execution_count": null,
      "outputs": []
    },
    {
      "cell_type": "code",
      "metadata": {
        "id": "BiDBQZodEhIE",
        "colab": {
          "base_uri": "https://localhost:8080/",
          "height": 296
        },
        "outputId": "ea26822a-0938-49fa-e4db-2f6adcf363d8"
      },
      "source": [
        "sns.set_style('whitegrid')\n",
        "sns.countplot(x='Confirmation',data=df, palette='summer')"
      ],
      "execution_count": null,
      "outputs": [
        {
          "output_type": "execute_result",
          "data": {
            "text/plain": [
              "<matplotlib.axes._subplots.AxesSubplot at 0x7faffef07ad0>"
            ]
          },
          "metadata": {
            "tags": []
          },
          "execution_count": 19
        },
        {
          "output_type": "display_data",
          "data": {
            "image/png": "[encoded data removed]",
            "text/plain": [
              "<Figure size 432x288 with 1 Axes>"
            ]
          },
          "metadata": {
            "tags": []
          }
        }
      ]
    },
    {
      "cell_type": "markdown",
      "metadata": {
        "id": "-wctT1YPwH58"
      },
      "source": [
        "**2. Author Sentiment**"
      ]
    },
    {
      "cell_type": "markdown",
      "metadata": {
        "id": "Zgl8lL-96Z74"
      },
      "source": [
        "We use SentimentIntensityAnalyzer to detect the score of sentiment."
      ]
    },
    {
      "cell_type": "code",
      "metadata": {
        "id": "RqSTN1I0gXHV"
      },
      "source": [
        "def get_text_sentiment(text):\n",
        "  analyzer = SentimentIntensityAnalyzer()\n",
        "  _sentiment = analyzer.polarity_scores(text)[\"compound\"]\n",
        "  return abs(_sentiment)"
      ],
      "execution_count": null,
      "outputs": []
    },
    {
      "cell_type": "code",
      "metadata": {
        "id": "smSRphhgkT8T"
      },
      "source": [
        "df['ScaleSentiment'] = df['Statement'].apply(get_text_sentiment)\n",
        "df['Sentiment'] = df['ScaleSentiment'].apply(lambda x: 'Positive' if float(x) > 0.4 else 'Negative')"
      ],
      "execution_count": null,
      "outputs": []
    },
    {
      "cell_type": "code",
      "metadata": {
        "id": "5pX12JjpVFRJ",
        "colab": {
          "base_uri": "https://localhost:8080/",
          "height": 296
        },
        "outputId": "c7675542-4344-4c69-f221-d4bf387b7f0e"
      },
      "source": [
        "sns.set_style('whitegrid')\n",
        "sns.countplot(x='Sentiment',data=df, palette='summer')"
      ],
      "execution_count": null,
      "outputs": [
        {
          "output_type": "execute_result",
          "data": {
            "text/plain": [
              "<matplotlib.axes._subplots.AxesSubplot at 0x7fafff09a1d0>"
            ]
          },
          "metadata": {
            "tags": []
          },
          "execution_count": 22
        },
        {
          "output_type": "display_data",
          "data": {
            "image/png": "[encoded data removed]",
            "text/plain": [
              "<Figure size 432x288 with 1 Axes>"
            ]
          },
          "metadata": {
            "tags": []
          }
        }
      ]
    },
    {
      "cell_type": "markdown",
      "metadata": {
        "id": "NS8-7duA59C7"
      },
      "source": [
        "**3. Opinion Leader**"
      ]
    },
    {
      "cell_type": "markdown",
      "metadata": {
        "id": "aqYWXmgh6Fjc"
      },
      "source": [
        "The opinion leaders are people who have many followers, we will use use number of followers of twitter user to detect the score of opinion leader."
      ]
    },
    {
      "cell_type": "code",
      "metadata": {
        "id": "431o22HP6WxD"
      },
      "source": [
        "def gen_microfactor_opinionleader(df):\n",
        "  df['ScaleOpinionLeader'] = df['UserNumOfFollowers']/df['UserNumOfFollowers'].mean()\n",
        "  df['ScaleOpinionLeader'] = df['ScaleOpinionLeader'].apply(lambda x: 1 if x > 1 else x)\n",
        "  df['OpinionLeader'] = df['ScaleOpinionLeader'].apply(lambda x: 'Positive' if x > 0.2 else 'Negative')\n",
        "\n",
        "gen_microfactor_opinionleader(df)"
      ],
      "execution_count": null,
      "outputs": []
    },
    {
      "cell_type": "code",
      "metadata": {
        "id": "TglKEwxS2DcK",
        "colab": {
          "base_uri": "https://localhost:8080/",
          "height": 296
        },
        "outputId": "507e3121-053e-4bc2-bc5b-2095a456e123"
      },
      "source": [
        "sns.set_style('whitegrid')\n",
        "sns.countplot(x='OpinionLeader',data=df, palette='summer')"
      ],
      "execution_count": null,
      "outputs": [
        {
          "output_type": "execute_result",
          "data": {
            "text/plain": [
              "<matplotlib.axes._subplots.AxesSubplot at 0x7fafff4aa850>"
            ]
          },
          "metadata": {
            "tags": []
          },
          "execution_count": 24
        },
        {
          "output_type": "display_data",
          "data": {
            "image/png": "[encoded data removed]",
            "text/plain": [
              "<Figure size 432x288 with 1 Axes>"
            ]
          },
          "metadata": {
            "tags": []
          }
        }
      ]
    },
    {
      "cell_type": "markdown",
      "metadata": {
        "id": "Ik4VTN7KsDOa"
      },
      "source": [
        "###2.2.Factor generation(Yuxing)\n",
        "* Combine micro-factors to factor PsychologyUtilites using polynomial"
      ]
    },
    {
      "cell_type": "code",
      "metadata": {
        "id": "yFeqv9LG7N5N"
      },
      "source": [
        "# Get factor from micro factors by polynomial\n",
        "df['ScalePsychology'] = df['ScaleConfirmation'] * 0.34 + df['ScaleSentiment'] * 0.33 + df['ScaleOpinionLeader'] * 0.33\n",
        "df['PsychologyUtilites'] = df['ScalePsychology'].apply(lambda x: 'Positive' if x > 0.3 else 'Negative')"
      ],
      "execution_count": null,
      "outputs": []
    },
    {
      "cell_type": "code",
      "metadata": {
        "id": "QLgllt-lnUFj",
        "colab": {
          "base_uri": "https://localhost:8080/",
          "height": 296
        },
        "outputId": "8dea8901-bd46-41f5-d090-9fbbe6173924"
      },
      "source": [
        "sns.set_style('whitegrid')\n",
        "sns.countplot(x='PsychologyUtilites',data=df, palette='summer')"
      ],
      "execution_count": null,
      "outputs": [
        {
          "output_type": "execute_result",
          "data": {
            "text/plain": [
              "<matplotlib.axes._subplots.AxesSubplot at 0x7faffeee4f90>"
            ]
          },
          "metadata": {
            "tags": []
          },
          "execution_count": 26
        },
        {
          "output_type": "display_data",
          "data": {
            "image/png": "[encoded data removed]",
            "text/plain": [
              "<Figure size 432x288 with 1 Axes>"
            ]
          },
          "metadata": {
            "tags": []
          }
        }
      ]
    },
    {
      "cell_type": "code",
      "metadata": {
        "id": "aMvgffdDOIbC",
        "colab": {
          "base_uri": "https://localhost:8080/"
        },
        "outputId": "efb559f9-93a8-4af5-bd8d-66b48b5e4fd5"
      },
      "source": [
        "df.shape"
      ],
      "execution_count": null,
      "outputs": [
        {
          "output_type": "execute_result",
          "data": {
            "text/plain": [
              "(1000, 11)"
            ]
          },
          "metadata": {
            "tags": []
          },
          "execution_count": 27
        }
      ]
    },
    {
      "cell_type": "markdown",
      "metadata": {
        "id": "AuADdT8UFgOy"
      },
      "source": [
        "**Construct a pipeline model with count vector Tfidf vector inside**"
      ]
    },
    {
      "cell_type": "markdown",
      "metadata": {
        "id": "okEtMpeHk8AU"
      },
      "source": [
        "Pipeline includes vectorization tfidf transformer and SVM training"
      ]
    },
    {
      "cell_type": "code",
      "metadata": {
        "id": "PAGbzfrrol9S"
      },
      "source": [
        "from sklearn.pipeline import Pipeline\n",
        "from sklearn.model_selection import cross_val_score\n",
        "from sklearn.tree import DecisionTreeClassifier\n",
        "from sklearn.linear_model import LogisticRegression\n",
        "from sklearn.svm import SVC\n",
        "import joblib\n",
        "\n",
        "# A pipeline with data preprocessing, training and prediction\n",
        "pipeline = Pipeline([\n",
        "    ('vect', CountVectorizer()),\n",
        "    ('tfidf', TfidfTransformer()),\n",
        "    ('svm', SVC(C=1, probability=True))\n",
        "])\n",
        "\n",
        "def data_to_pipeline(df, _source=None, _target=None):\n",
        "  # Split data for training and validation\n",
        "  X, y = df[_source].values, df[_target].values\n",
        "  X_train, X_test, y_train, y_test = train_test_split(X, y, test_size=0.30, random_state=42) \n",
        "  \n",
        "  # Training and prediction\n",
        "  pipeline.fit(X_train, y_train)\n",
        "  scores = cross_val_score(pipeline, X_test, y_test, cv=3)\n",
        "  print('now using %s to predict %s' % (_source, _target))\n",
        "  print('cross validation scores:', scores)\n",
        "  print('prediction score:', pipeline.score(X_test, y_test))\n",
        "\n",
        "  # Save the pickle file\n",
        "  pickle_filepath = '/content/' + _target + '_pipeline.pkl'\n",
        "  joblib.dump(pipeline, pickle_filepath)\n",
        "  print('pickle file is created:', pickle_filepath)\n",
        "  print('\\n')"
      ],
      "execution_count": null,
      "outputs": []
    },
    {
      "cell_type": "code",
      "metadata": {
        "id": "2c7q_9SvBV8h",
        "colab": {
          "base_uri": "https://localhost:8080/"
        },
        "outputId": "5a5e9ea3-4cec-427c-aa7a-dd4478ff7871"
      },
      "source": [
        "def factor_1_pipeline(df):\n",
        "  data_to_pipeline(df, _source='Statement', _target='Sentiment')\n",
        "  data_to_pipeline(df, _source='Statement', _target='Confirmation')\n",
        "  data_to_pipeline(df, _source='Statement', _target='OpinionLeader')\n",
        "  data_to_pipeline(df, _source='Statement', _target='PsychologyUtilites')\n",
        "\n",
        "factor_1_pipeline(df)"
      ],
      "execution_count": null,
      "outputs": [
        {
          "output_type": "stream",
          "text": [
            "now using Statement to predict Sentiment\n",
            "cross validation scores: [0.86 0.9  0.84]\n",
            "prediction score: 0.9433333333333334\n",
            "pickle file is created: /content/Sentiment_pipeline.pkl\n",
            "\n",
            "\n",
            "now using Statement to predict Confirmation\n",
            "cross validation scores: [0.92 0.96 0.91]\n",
            "prediction score: 0.97\n",
            "pickle file is created: /content/Confirmation_pipeline.pkl\n",
            "\n",
            "\n",
            "now using Statement to predict OpinionLeader\n",
            "cross validation scores: [0.69 0.72 0.7 ]\n",
            "prediction score: 0.7233333333333334\n",
            "pickle file is created: /content/OpinionLeader_pipeline.pkl\n",
            "\n",
            "\n",
            "now using Statement to predict PsychologyUtilites\n",
            "cross validation scores: [0.79 0.84 0.79]\n",
            "prediction score: 0.8533333333333334\n",
            "pickle file is created: /content/PsychologyUtilites_pipeline.pkl\n",
            "\n",
            "\n"
          ],
          "name": "stdout"
        }
      ]
    },
    {
      "cell_type": "markdown",
      "metadata": {
        "id": "bZTHmnD7GwI2"
      },
      "source": [
        "### 2.3.Microfactors generation (Mayuri)"
      ]
    },
    {
      "cell_type": "markdown",
      "metadata": {
        "id": "nIF1_EZUWA0k"
      },
      "source": [
        "**Generate Microfactors for Factor Intent**"
      ]
    },
    {
      "cell_type": "markdown",
      "metadata": {
        "id": "tzl2keUcAvDg"
      },
      "source": [
        "**1. Utterance Score**"
      ]
    },
    {
      "cell_type": "markdown",
      "metadata": {
        "id": "cBwKD2KYCWUt"
      },
      "source": [
        "Where there are more sentences, there are more utterances. We can derive utterance from numberof sentences in the text."
      ]
    },
    {
      "cell_type": "code",
      "metadata": {
        "id": "OdmKn4WCGyr-"
      },
      "source": [
        "from collections import Counter\n",
        "import spacy\n",
        "\n",
        "nlp = spacy.load('en_core_web_sm')\n",
        "\n",
        "def get_sentences_num(text):\n",
        "  _doc = nlp(text)\n",
        "  sentences = list(_doc.sents)\n",
        "  return len(sentences)\n",
        "\n",
        "df['NumOfSent'] = df['Statement'].apply(get_sentences_num)"
      ],
      "execution_count": null,
      "outputs": []
    },
    {
      "cell_type": "code",
      "metadata": {
        "id": "fHTPCIkTVmsa"
      },
      "source": [
        "def gen_microfactor_utterance(df):\n",
        "  df['ScaleUtterance'] = df['NumOfSent']/df['NumOfSent'].mean()\n",
        "  df['ScaleUtterancen'] = df['ScaleUtterance'].apply(lambda x: 1 if x > 1 else x)\n",
        "  df['Utterance'] = df['ScaleUtterance'].apply(lambda x: 'Positive' if x > 0.9 else 'Negative')\n",
        "\n",
        "gen_microfactor_utterance(df)"
      ],
      "execution_count": null,
      "outputs": []
    },
    {
      "cell_type": "code",
      "metadata": {
        "id": "qXShrqWSBsJf",
        "colab": {
          "base_uri": "https://localhost:8080/",
          "height": 296
        },
        "outputId": "cfdf4a9d-98f9-4c53-8ed3-c2a38b066e64"
      },
      "source": [
        "sns.set_style('whitegrid')\n",
        "sns.countplot(x='Utterance',data=df, palette='summer')"
      ],
      "execution_count": null,
      "outputs": [
        {
          "output_type": "execute_result",
          "data": {
            "text/plain": [
              "<matplotlib.axes._subplots.AxesSubplot at 0x7faffe730110>"
            ]
          },
          "metadata": {
            "tags": []
          },
          "execution_count": 32
        },
        {
          "output_type": "display_data",
          "data": {
            "image/png": "[encoded data removed]",
            "text/plain": [
              "<Figure size 432x288 with 1 Axes>"
            ]
          },
          "metadata": {
            "tags": []
          }
        }
      ]
    },
    {
      "cell_type": "markdown",
      "metadata": {
        "id": "T6ZOqGhRGRWl"
      },
      "source": [
        "**2.Speech Score**"
      ]
    },
    {
      "cell_type": "markdown",
      "metadata": {
        "id": "3mXn3pBtMno-"
      },
      "source": [
        "Where there are more verbs and nouns, there are more speech to make. We can derive speech from numberof verbs and nouns in the text."
      ]
    },
    {
      "cell_type": "code",
      "metadata": {
        "id": "gHNuLtN3GXtN"
      },
      "source": [
        "def get_verbnoun_num(text):\n",
        "  _doc = nlp(text)\n",
        "  _no_stopword_doc = [token for token in _doc if not token.is_stop]\n",
        "  return len(_no_stopword_doc)\n",
        "\n",
        "df['NumOfVerbNoun'] = df['Statement'].apply(get_verbnoun_num)"
      ],
      "execution_count": null,
      "outputs": []
    },
    {
      "cell_type": "code",
      "metadata": {
        "id": "70Ln7p7hGi93"
      },
      "source": [
        "def gen_microfactor_speech(df):\n",
        "  df['ScaleSpeech'] = df['NumOfVerbNoun']/df['NumOfVerbNoun'].mean()\n",
        "  df['ScaleSpeech'] = df['ScaleSpeech'].apply(lambda x: 1 if x > 1 else x)\n",
        "  df['Speech'] = df['ScaleSpeech'].apply(lambda x: 'Positive' if x > 0.95 else 'Negative')\n",
        "\n",
        "gen_microfactor_speech(df)"
      ],
      "execution_count": null,
      "outputs": []
    },
    {
      "cell_type": "code",
      "metadata": {
        "id": "HHd4Gt6sG74_",
        "colab": {
          "base_uri": "https://localhost:8080/",
          "height": 296
        },
        "outputId": "4cb8fe83-8491-47ed-a780-a4a4efdd058b"
      },
      "source": [
        "sns.set_style('whitegrid')\n",
        "sns.countplot(x='Speech',data=df, palette='summer')"
      ],
      "execution_count": null,
      "outputs": [
        {
          "output_type": "execute_result",
          "data": {
            "text/plain": [
              "<matplotlib.axes._subplots.AxesSubplot at 0x7faffcb72cd0>"
            ]
          },
          "metadata": {
            "tags": []
          },
          "execution_count": 35
        },
        {
          "output_type": "display_data",
          "data": {
            "image/png": "[encoded data removed]",
            "text/plain": [
              "<Figure size 432x288 with 1 Axes>"
            ]
          },
          "metadata": {
            "tags": []
          }
        }
      ]
    },
    {
      "cell_type": "markdown",
      "metadata": {
        "id": "Y4evlxrLMeJK"
      },
      "source": [
        "**3.Sentiment**"
      ]
    },
    {
      "cell_type": "markdown",
      "metadata": {
        "id": "ggeMxni_MwP7"
      },
      "source": [
        "Sentiment is a micro factor of intent, also it is micro factor of psychology utility, which has been derived earlier."
      ]
    },
    {
      "cell_type": "code",
      "metadata": {
        "id": "Op0zkNMyMYwT",
        "colab": {
          "base_uri": "https://localhost:8080/"
        },
        "outputId": "fa5ed1dc-47d8-4d75-f702-1a692a495e44"
      },
      "source": [
        "df['ScaleSentiment'].head()"
      ],
      "execution_count": null,
      "outputs": [
        {
          "output_type": "execute_result",
          "data": {
            "text/plain": [
              "0    0.7269\n",
              "1    0.0000\n",
              "2    0.0000\n",
              "3    0.6705\n",
              "4    0.3400\n",
              "Name: ScaleSentiment, dtype: float64"
            ]
          },
          "metadata": {
            "tags": []
          },
          "execution_count": 36
        }
      ]
    },
    {
      "cell_type": "markdown",
      "metadata": {
        "id": "gsjqMF3ZLLvH"
      },
      "source": [
        "### 2.4.Factor generation(Mayuri)\n",
        "* Combine micro-factors to factor Intent using polynomial"
      ]
    },
    {
      "cell_type": "code",
      "metadata": {
        "id": "qrlwZeQELLvH"
      },
      "source": [
        "# Get factor from micro factors by polynomial\n",
        "df['ScaleIntent'] = df['ScaleUtterancen'] * 0.3 + df['ScaleSpeech'] * 0.3 + df['ScaleSentiment'] * 0.4\n",
        "df['Intent'] = df['ScaleIntent'].apply(lambda x: 'Positive' if x > 0.65 else 'Negative')"
      ],
      "execution_count": null,
      "outputs": []
    },
    {
      "cell_type": "code",
      "metadata": {
        "id": "vBxxHDpxLpRD",
        "colab": {
          "base_uri": "https://localhost:8080/",
          "height": 296
        },
        "outputId": "0badc51b-b829-4eec-9110-4c1291841302"
      },
      "source": [
        "sns.set_style('whitegrid')\n",
        "sns.countplot(x='Intent',data=df, palette='summer')"
      ],
      "execution_count": null,
      "outputs": [
        {
          "output_type": "execute_result",
          "data": {
            "text/plain": [
              "<matplotlib.axes._subplots.AxesSubplot at 0x7faffc4478d0>"
            ]
          },
          "metadata": {
            "tags": []
          },
          "execution_count": 38
        },
        {
          "output_type": "display_data",
          "data": {
            "image/png": "[encoded data removed]",
            "text/plain": [
              "<Figure size 432x288 with 1 Axes>"
            ]
          },
          "metadata": {
            "tags": []
          }
        }
      ]
    },
    {
      "cell_type": "markdown",
      "metadata": {
        "id": "VUN5vdoMgA9v"
      },
      "source": [
        "###2.5.Factor generation (Arun)"
      ]
    },
    {
      "cell_type": "code",
      "metadata": {
        "id": "GWeNTWxvKpgj",
        "colab": {
          "base_uri": "https://localhost:8080/"
        },
        "outputId": "f8642576-ab78-41e2-ae52-d84c7f8ced17"
      },
      "source": [
        "def factor_2_pipeline(df):\n",
        "  data_to_pipeline(df, _source='Statement', _target='Utterance')\n",
        "  data_to_pipeline(df, _source='Statement', _target='Speech')\n",
        "  data_to_pipeline(df, _source='Statement', _target='Intent')\n",
        "\n",
        "factor_2_pipeline(df)"
      ],
      "execution_count": null,
      "outputs": [
        {
          "output_type": "stream",
          "text": [
            "now using Statement to predict Utterance\n",
            "cross validation scores: [0.89 0.85 0.88]\n",
            "prediction score: 0.9266666666666666\n",
            "pickle file is created: /content/Utterance_pipeline.pkl\n",
            "\n",
            "\n",
            "now using Statement to predict Speech\n",
            "cross validation scores: [0.83 0.79 0.78]\n",
            "prediction score: 0.9266666666666666\n",
            "pickle file is created: /content/Speech_pipeline.pkl\n",
            "\n",
            "\n",
            "now using Statement to predict Intent\n",
            "cross validation scores: [0.84 0.88 0.77]\n",
            "prediction score: 0.92\n",
            "pickle file is created: /content/Intent_pipeline.pkl\n",
            "\n",
            "\n"
          ],
          "name": "stdout"
        }
      ]
    },
    {
      "cell_type": "markdown",
      "metadata": {
        "id": "Jl3I183lRr40"
      },
      "source": [
        "## 3.Team Work"
      ]
    },
    {
      "cell_type": "markdown",
      "metadata": {
        "id": "CHo7uG_B21GU"
      },
      "source": [
        "###3.1.Load the pickled models for microfactors"
      ]
    },
    {
      "cell_type": "code",
      "metadata": {
        "id": "tpFRxQMw6YrK",
        "colab": {
          "base_uri": "https://localhost:8080/"
        },
        "outputId": "3d85a6fb-367f-4597-a0e9-f9f7c49a478d"
      },
      "source": [
        "! ls -l /content/*.pkl"
      ],
      "execution_count": null,
      "outputs": [
        {
          "output_type": "stream",
          "text": [
            "-rw-r--r-- 1 root root 141121 May 11 03:45 /content/Confirmation_pipeline.pkl\n",
            "-rw-r--r-- 1 root root 142826 May 11 03:47 /content/Intent_pipeline.pkl\n",
            "-rw-r--r-- 1 root root 194878 May 11 03:45 /content/OpinionLeader_pipeline.pkl\n",
            "-rw-r--r-- 1 root root 163582 May 11 03:45 /content/PsychologyUtilites_pipeline.pkl\n",
            "-rw-r--r-- 1 root root 139477 May 11 03:45 /content/Sentiment_pipeline.pkl\n",
            "-rw-r--r-- 1 root root 142862 May 11 03:47 /content/Speech_pipeline.pkl\n",
            "-rw-r--r-- 1 root root 140617 May 11 03:47 /content/Utterance_pipeline.pkl\n"
          ],
          "name": "stdout"
        }
      ]
    },
    {
      "cell_type": "code",
      "metadata": {
        "id": "8ywq-gR921WD"
      },
      "source": [
        "import joblib\n",
        "\n",
        "microfactor_list = [\n",
        "                    'Sentiment', \n",
        "                    'Confirmation', \n",
        "                    'OpinionLeader',\n",
        "                    'Utterance',\n",
        "                    'Speech',\n",
        "                    'Intent'\n",
        "                  ]\n",
        "\n",
        "def get_micrafactor_from_pickles_(df):\n",
        "  # Preprocessing\n",
        "  df['Statement'] = df['Statement'].apply(get_text_processing)\n",
        "  statement = df['Statement'].to_numpy()\n",
        "  for microfactor in microfactor_list:\n",
        "    print('generating microfactor :', microfactor)\n",
        "    # load microfactor pickle\n",
        "    pickle_filepath = '/content/{}_pipeline.pkl'.format(microfactor)\n",
        "    microfactor_model = joblib.load(open(pickle_filepath, 'rb'))\n",
        "    # create new microfact column\n",
        "    y_microfactor = microfactor_model.predict(statement)\n",
        "    df[microfactor] = y_microfactor\n",
        "    df[microfactor] = df[microfactor].apply(lambda x: 1 if x == 'Positive' else 0)\n",
        "    "
      ],
      "execution_count": null,
      "outputs": []
    },
    {
      "cell_type": "markdown",
      "metadata": {
        "id": "R586EHFw3LSB"
      },
      "source": [
        "###3.2.Ensemble a true-o-meter classification pipeline"
      ]
    },
    {
      "cell_type": "markdown",
      "metadata": {
        "id": "aH-A65lYqycQ"
      },
      "source": [
        "**Use politicfact dataset to generate microfactors and train Verdict**"
      ]
    },
    {
      "cell_type": "code",
      "metadata": {
        "id": "omfvnRMjGdH3",
        "colab": {
          "base_uri": "https://localhost:8080/"
        },
        "outputId": "f661df2e-53eb-47f2-97a0-baa09712d570"
      },
      "source": [
        "df = df_politifact.copy()\n",
        "get_micrafactor_from_pickles_(df)"
      ],
      "execution_count": null,
      "outputs": [
        {
          "output_type": "stream",
          "text": [
            "generating microfactor : Sentiment\n",
            "generating microfactor : Confirmation\n",
            "generating microfactor : OpinionLeader\n",
            "generating microfactor : Utterance\n",
            "generating microfactor : Speech\n",
            "generating microfactor : Intent\n"
          ],
          "name": "stdout"
        }
      ]
    },
    {
      "cell_type": "markdown",
      "metadata": {
        "id": "nIxVGNHcrtj-"
      },
      "source": [
        "**Use ensembled model and microfactors to train Verdict, model will be pickled in data_to_pipeline processing**"
      ]
    },
    {
      "cell_type": "code",
      "metadata": {
        "id": "YyOowx3oNL_Q",
        "colab": {
          "base_uri": "https://localhost:8080/"
        },
        "outputId": "08590f6b-065a-4683-8e3a-6501a4a2e1bf"
      },
      "source": [
        "pipeline = Pipeline([\n",
        "    ('standardscaler', StandardScaler()),\n",
        "    ('svm', SVC(C=1, probability=True))\n",
        "])\n",
        "\n",
        "data_to_pipeline(df, _source = microfactor_list, _target = 'Verdict')"
      ],
      "execution_count": null,
      "outputs": [
        {
          "output_type": "stream",
          "text": [
            "now using ['Sentiment', 'Confirmation', 'OpinionLeader', 'Utterance', 'Speech', 'Intent'] to predict Verdict\n",
            "cross validation scores: [0.29166667 0.25531915 0.25531915]\n",
            "prediction score: 0.22535211267605634\n",
            "pickle file is created: /content/Verdict_pipeline.pkl\n",
            "\n",
            "\n"
          ],
          "name": "stdout"
        }
      ]
    },
    {
      "cell_type": "markdown",
      "metadata": {
        "id": "ttbvMNqL2_JW"
      },
      "source": [
        "###3.3.Automated Inference Pipeline\n"
      ]
    },
    {
      "cell_type": "markdown",
      "metadata": {
        "id": "UCP-VhCzReE3"
      },
      "source": [
        "**Load pickled true-o-meter pipeline**"
      ]
    },
    {
      "cell_type": "code",
      "metadata": {
        "id": "MBuqNrU6RffR"
      },
      "source": [
        "pickle_filepath = '/content/Verdict_pipeline.pkl'\n",
        "o_meter_model = joblib.load(open(pickle_filepath, 'rb'))"
      ],
      "execution_count": null,
      "outputs": []
    },
    {
      "cell_type": "markdown",
      "metadata": {
        "id": "Q1WuitA3qCib"
      },
      "source": [
        "**Read a new piece of data from politifact**"
      ]
    },
    {
      "cell_type": "code",
      "metadata": {
        "id": "os7X1gZy3KWK"
      },
      "source": [
        "records = scrape_data_from_politifact(start=12, end=13)\n",
        "df = pd.DataFrame(records, columns=['Date', 'Issue','Reporter','Author', 'Statement', 'Description', 'Verdict', 'Url'])  "
      ],
      "execution_count": null,
      "outputs": []
    },
    {
      "cell_type": "markdown",
      "metadata": {
        "id": "TjxtC2m5p4F0"
      },
      "source": [
        "**Predict and compare the Verdict**"
      ]
    },
    {
      "cell_type": "code",
      "metadata": {
        "id": "6C89fTR5p4SK",
        "colab": {
          "base_uri": "https://localhost:8080/",
          "height": 310
        },
        "outputId": "bfd418cc-6471-4cd7-bb28-82d7e4e083e2"
      },
      "source": [
        "get_micrafactor_from_pickles_(df)\n",
        "df['pred_verdict'] = o_meter_model.predict(df[microfactor_list])\n",
        "df_intestest = df[['Statement', 'Verdict', 'pred_verdict']]\n",
        "df_intestest.head()"
      ],
      "execution_count": null,
      "outputs": [
        {
          "output_type": "stream",
          "text": [
            "generating microfactor : Sentiment\n",
            "generating microfactor : Confirmation\n",
            "generating microfactor : OpinionLeader\n",
            "generating microfactor : Utterance\n",
            "generating microfactor : Speech\n",
            "generating microfactor : Intent\n"
          ],
          "name": "stdout"
        },
        {
          "output_type": "execute_result",
          "data": {
            "text/html": [
              "<div>\n",
              "<style scoped>\n",
              "    .dataframe tbody tr th:only-of-type {\n",
              "        vertical-align: middle;\n",
              "    }\n",
              "\n",
              "    .dataframe tbody tr th {\n",
              "        vertical-align: top;\n",
              "    }\n",
              "\n",
              "    .dataframe thead th {\n",
              "        text-align: right;\n",
              "    }\n",
              "</style>\n",
              "<table border=\"1\" class=\"dataframe\">\n",
              "  <thead>\n",
              "    <tr style=\"text-align: right;\">\n",
              "      <th></th>\n",
              "      <th>Statement</th>\n",
              "      <th>Verdict</th>\n",
              "      <th>pred_verdict</th>\n",
              "    </tr>\n",
              "  </thead>\n",
              "  <tbody>\n",
              "    <tr>\n",
              "      <th>0</th>\n",
              "      <td>Central Health hospital district Texas spends ...</td>\n",
              "      <td>true</td>\n",
              "      <td>false</td>\n",
              "    </tr>\n",
              "    <tr>\n",
              "      <th>1</th>\n",
              "      <td>US Government Accountability Office report say...</td>\n",
              "      <td>pants-fire</td>\n",
              "      <td>false</td>\n",
              "    </tr>\n",
              "    <tr>\n",
              "      <th>2</th>\n",
              "      <td>Studies shown absence federal reproductive hea...</td>\n",
              "      <td>half-true</td>\n",
              "      <td>false</td>\n",
              "    </tr>\n",
              "    <tr>\n",
              "      <th>3</th>\n",
              "      <td>Says bill HB 97 would prevent use taxpayer dol...</td>\n",
              "      <td>false</td>\n",
              "      <td>false</td>\n",
              "    </tr>\n",
              "    <tr>\n",
              "      <th>4</th>\n",
              "      <td>child born prematurely according president wor...</td>\n",
              "      <td>pants-fire</td>\n",
              "      <td>false</td>\n",
              "    </tr>\n",
              "  </tbody>\n",
              "</table>\n",
              "</div>"
            ],
            "text/plain": [
              "                                           Statement     Verdict pred_verdict\n",
              "0  Central Health hospital district Texas spends ...        true        false\n",
              "1  US Government Accountability Office report say...  pants-fire        false\n",
              "2  Studies shown absence federal reproductive hea...   half-true        false\n",
              "3  Says bill HB 97 would prevent use taxpayer dol...       false        false\n",
              "4  child born prematurely according president wor...  pants-fire        false"
            ]
          },
          "metadata": {
            "tags": []
          },
          "execution_count": 46
        }
      ]
    },
    {
      "cell_type": "code",
      "metadata": {
        "id": "-1HaiWG4N79K",
        "colab": {
          "base_uri": "https://localhost:8080/"
        },
        "outputId": "b09932d8-1a5e-4bea-93ec-a7ce638bfdb4"
      },
      "source": [
        "from google.colab import drive\n",
        "drive.mount('/content/drive')\n",
        "! cp /content/*.pkl /content/drive/MyDrive/pickles_nlp/"
      ],
      "execution_count": null,
      "outputs": [
        {
          "output_type": "stream",
          "text": [
            "Mounted at /content/drive\n"
          ],
          "name": "stdout"
        }
      ]
    },
    {
      "cell_type": "code",
      "metadata": {
        "colab": {
          "base_uri": "https://localhost:8080/"
        },
        "id": "MSsFJYp4jhbs",
        "outputId": "9588c373-ee62-4eec-f91f-8b11e62a4d34"
      },
      "source": [
        "df['pred_verdict'].unique()"
      ],
      "execution_count": null,
      "outputs": [
        {
          "output_type": "execute_result",
          "data": {
            "text/plain": [
              "array(['false', 'half-true', 'barely-true'], dtype=object)"
            ]
          },
          "metadata": {
            "tags": []
          },
          "execution_count": 49
        }
      ]
    },
    {
      "cell_type": "code",
      "metadata": {
        "id": "06XERzqKkEql"
      },
      "source": [
        "df['verdict_norm'] = df['Verdict'].apply(lambda x: 'True' if x in ['true', 'mostly-true'] else 'False')\n",
        "df['pred_verdict_norm'] = df['pred_verdict'].apply(lambda x: 'True' if x in ['true', 'mostly-true'] else 'False')"
      ],
      "execution_count": null,
      "outputs": []
    },
    {
      "cell_type": "code",
      "metadata": {
        "colab": {
          "base_uri": "https://localhost:8080/"
        },
        "id": "JM2RnRfunKyy",
        "outputId": "7f5c693d-4e09-4f86-cc96-adedf60f03a8"
      },
      "source": [
        "num_of_equals = 0\n",
        "num_of_diffs = 0\n",
        "for index, x in df.iterrows():\n",
        "  if x['verdict_norm'] == x['pred_verdict_norm']:\n",
        "    num_of_equals = num_of_equals + 1\n",
        "  else:\n",
        "    num_of_diffs = num_of_diffs +1\n",
        "\n",
        "print('num_of_equals: %s, num_of_diffs: %s' % (num_of_equals, num_of_diffs))"
      ],
      "execution_count": null,
      "outputs": [
        {
          "output_type": "stream",
          "text": [
            "num_of_equals: 17, num_of_diffs: 13\n"
          ],
          "name": "stdout"
        }
      ]
    }
  ]
}